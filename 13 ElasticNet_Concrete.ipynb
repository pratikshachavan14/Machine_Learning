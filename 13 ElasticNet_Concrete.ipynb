{
 "cells": [
  {
   "cell_type": "code",
   "execution_count": 7,
   "id": "d7fc1d8f-26fe-4477-bb38-62432c5b512a",
   "metadata": {},
   "outputs": [],
   "source": [
    "import pandas as pd\n",
    "import numpy as np\n",
    "\n",
    "from sklearn.model_selection import train_test_split\n",
    "from sklearn.linear_model import LinearRegression\n",
    "from sklearn.linear_model import Ridge\n",
    "from sklearn.metrics import r2_score\n",
    "from sklearn.model_selection import cross_val_score\n",
    "from sklearn.model_selection import KFold\n",
    "from sklearn.linear_model import Lasso\n",
    "from sklearn.linear_model import ElasticNet\n",
    "from sklearn.model_selection import GridSearchCV"
   ]
  },
  {
   "cell_type": "code",
   "execution_count": 2,
   "id": "78e260b7-1a0b-4463-8167-85802d4664f9",
   "metadata": {},
   "outputs": [],
   "source": [
    "df = pd.read_csv(\"C:/Users/Administrator.DAI-PC2/Desktop/ML/Day2/Concrete_Data.csv\")\n",
    "y = df[\"Strength\"]\n",
    "\n",
    "X = df.drop(\"Strength\", axis = 1)\n",
    "\n",
    "X_train, X_test, y_train, y_test = train_test_split(X, y, test_size = 0.3,random_state=24)"
   ]
  },
  {
   "cell_type": "code",
   "execution_count": 3,
   "id": "2af22879-6ec8-4c7c-9a04-1e9fe757ebc9",
   "metadata": {},
   "outputs": [
    {
     "name": "stdout",
     "output_type": "stream",
     "text": [
      "0.576333587787164\n"
     ]
    }
   ],
   "source": [
    "l = Lasso()\n",
    "l.fit(X_train, y_train)\n",
    "y_pred = l.predict(X_test)\n",
    "\n",
    "print(r2_score(y_test, y_pred))"
   ]
  },
  {
   "cell_type": "code",
   "execution_count": 4,
   "id": "2efb9ea6-8586-4aeb-83b1-20779902a4b3",
   "metadata": {},
   "outputs": [
    {
     "name": "stdout",
     "output_type": "stream",
     "text": [
      "Best alpha :  0.001\n"
     ]
    }
   ],
   "source": [
    "kfold = KFold(n_splits = 5, shuffle = True, random_state = 24)\n",
    "lambdas = np.linspace(0.001, 100, 40)\n",
    "scores = []\n",
    "for i in lambdas : \n",
    "    l = Lasso(alpha = i)\n",
    "    result = cross_val_score(l, X, y, cv = kfold)\n",
    "    scores.append(result.mean())\n",
    "\n",
    "i_max = np.argmax(scores)\n",
    "print(\"Best alpha : \", lambdas[i_max])"
   ]
  },
  {
   "cell_type": "code",
   "execution_count": 5,
   "id": "c863babf-7374-4e88-afae-ad1e8b95e833",
   "metadata": {},
   "outputs": [
    {
     "name": "stdout",
     "output_type": "stream",
     "text": [
      "{'alpha': 0.001}\n",
      "0.6066064857714588\n"
     ]
    }
   ],
   "source": [
    "params = {'alpha':np.linspace(0.001, 100,40)}\n",
    "gcv = GridSearchCV(l, param_grid=params,\n",
    "                   cv=kfold)\n",
    "gcv.fit(X, y)\n",
    "print(gcv.best_params_)\n",
    "print(gcv.best_score_)"
   ]
  },
  {
   "cell_type": "code",
   "execution_count": 9,
   "id": "4468f308-718e-4104-9a6f-c7515838ca50",
   "metadata": {},
   "outputs": [
    {
     "name": "stdout",
     "output_type": "stream",
     "text": [
      "{'alpha': 1.0, 'copy_X': True, 'fit_intercept': True, 'l1_ratio': 0.5, 'max_iter': 1000, 'positive': False, 'precompute': False, 'random_state': None, 'selection': 'cyclic', 'tol': 0.0001, 'warm_start': False}\n",
      "{'alpha': 0.001, 'l1_ratio': 0.001}\n",
      "0.6066065609610953\n"
     ]
    }
   ],
   "source": [
    "elastic = ElasticNet()\n",
    "print(elastic.get_params())\n",
    "params = {'alpha': np.linspace(0.001, 50, 5),\n",
    "          'l1_ratio': np.linspace(0.001, 1, 10)}\n",
    "gcv = GridSearchCV(elastic, param_grid = params, cv = kfold, scoring = 'r2')\n",
    "gcv.fit(X, y)\n",
    "print(gcv.best_params_)\n",
    "print(gcv.best_score_)"
   ]
  }
 ],
 "metadata": {
  "kernelspec": {
   "display_name": "Python 3 (ipykernel)",
   "language": "python",
   "name": "python3"
  },
  "language_info": {
   "codemirror_mode": {
    "name": "ipython",
    "version": 3
   },
   "file_extension": ".py",
   "mimetype": "text/x-python",
   "name": "python",
   "nbconvert_exporter": "python",
   "pygments_lexer": "ipython3",
   "version": "3.11.7"
  }
 },
 "nbformat": 4,
 "nbformat_minor": 5
}

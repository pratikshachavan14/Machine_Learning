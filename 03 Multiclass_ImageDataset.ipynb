{
 "cells": [
  {
   "cell_type": "code",
   "execution_count": 1,
   "id": "927282a0-0fc4-40d2-a23a-14c2c276d761",
   "metadata": {},
   "outputs": [],
   "source": [
    "import pandas as pd\n",
    "import numpy as np\n",
    "import matplotlib.pyplot as plt\n",
    "\n",
    "from sklearn.model_selection import train_test_split\n",
    "from sklearn.metrics import confusion_matrix, classification_report\n",
    "from sklearn.metrics import accuracy_score\n",
    "from sklearn.naive_bayes import GaussianNB\n",
    "from sklearn.metrics import roc_curve, roc_auc_score\n",
    "from sklearn.preprocessing import LabelEncoder\n",
    "from sklearn.linear_model import LogisticRegression\n",
    "from sklearn.metrics import log_loss"
   ]
  },
  {
   "cell_type": "code",
   "execution_count": 2,
   "id": "2acb723b-5a8c-43fe-a02e-c10aff7f5076",
   "metadata": {},
   "outputs": [
    {
     "name": "stdout",
     "output_type": "stream",
     "text": [
      "['BRICKFACE' 'CEMENT' 'FOLIAGE' 'GRASS' 'PATH' 'SKY' 'WINDOW']\n",
      "[[6 1 0 0 0 0 2]\n",
      " [0 7 1 0 1 0 0]\n",
      " [0 0 4 0 0 0 5]\n",
      " [0 0 0 9 0 0 0]\n",
      " [0 1 1 0 7 0 0]\n",
      " [0 0 0 0 0 9 0]\n",
      " [0 1 1 0 0 0 7]]\n",
      "              precision    recall  f1-score   support\n",
      "\n",
      "           0       1.00      0.67      0.80         9\n",
      "           1       0.70      0.78      0.74         9\n",
      "           2       0.57      0.44      0.50         9\n",
      "           3       1.00      1.00      1.00         9\n",
      "           4       0.88      0.78      0.82         9\n",
      "           5       1.00      1.00      1.00         9\n",
      "           6       0.50      0.78      0.61         9\n",
      "\n",
      "    accuracy                           0.78        63\n",
      "   macro avg       0.81      0.78      0.78        63\n",
      "weighted avg       0.81      0.78      0.78        63\n",
      "\n",
      "0.7777777777777778\n"
     ]
    }
   ],
   "source": [
    "df = pd.read_csv(\"C:/Users/Administrator.DAI-PC2/Desktop/ML/Day1/Image_Segmentation.csv\")\n",
    "le = LabelEncoder()\n",
    "y = le.fit_transform(df[\"Class\"])\n",
    "X = df.drop(\"Class\", axis = 1)\n",
    "print(le.classes_)\n",
    "\n",
    "X_train, X_test, y_train, y_test = train_test_split(X, y, test_size = 0.3, random_state=2021, stratify=y)\n",
    "\n",
    "gaussian = GaussianNB()\n",
    "gaussian.fit(X_train, y_train)\n",
    "y_pred = gaussian.predict(X_test)\n",
    "y_pred_prob = gaussian.predict_proba(X_test)\n",
    "\n",
    "print(confusion_matrix(y_test, y_pred))\n",
    "print(classification_report(y_test, y_pred))\n",
    "print(accuracy_score(y_test, y_pred))"
   ]
  },
  {
   "cell_type": "code",
   "execution_count": 3,
   "id": "9e53ea20-dab3-4fa2-9759-436afc4bf5fe",
   "metadata": {},
   "outputs": [
    {
     "name": "stdout",
     "output_type": "stream",
     "text": [
      "3.4434736809185207\n"
     ]
    }
   ],
   "source": [
    "print(log_loss(y_test,y_pred_prob))"
   ]
  },
  {
   "cell_type": "code",
   "execution_count": 4,
   "id": "036af93a-5616-44d1-9492-d4bf1b603b0c",
   "metadata": {},
   "outputs": [
    {
     "name": "stdout",
     "output_type": "stream",
     "text": [
      "[[8 0 1 0 0 0 0]\n",
      " [0 7 0 0 1 0 1]\n",
      " [0 0 9 0 0 0 0]\n",
      " [0 0 0 9 0 0 0]\n",
      " [0 0 0 0 9 0 0]\n",
      " [0 0 0 0 0 9 0]\n",
      " [0 1 2 0 1 0 5]]\n",
      "              precision    recall  f1-score   support\n",
      "\n",
      "           0       1.00      0.89      0.94         9\n",
      "           1       0.88      0.78      0.82         9\n",
      "           2       0.75      1.00      0.86         9\n",
      "           3       1.00      1.00      1.00         9\n",
      "           4       0.82      1.00      0.90         9\n",
      "           5       1.00      1.00      1.00         9\n",
      "           6       0.83      0.56      0.67         9\n",
      "\n",
      "    accuracy                           0.89        63\n",
      "   macro avg       0.90      0.89      0.88        63\n",
      "weighted avg       0.90      0.89      0.88        63\n",
      "\n",
      "0.8888888888888888\n"
     ]
    },
    {
     "name": "stderr",
     "output_type": "stream",
     "text": [
      "C:\\ProgramData\\anaconda3\\Lib\\site-packages\\sklearn\\linear_model\\_logistic.py:458: ConvergenceWarning: lbfgs failed to converge (status=1):\n",
      "STOP: TOTAL NO. of ITERATIONS REACHED LIMIT.\n",
      "\n",
      "Increase the number of iterations (max_iter) or scale the data as shown in:\n",
      "    https://scikit-learn.org/stable/modules/preprocessing.html\n",
      "Please also refer to the documentation for alternative solver options:\n",
      "    https://scikit-learn.org/stable/modules/linear_model.html#logistic-regression\n",
      "  n_iter_i = _check_optimize_result(\n"
     ]
    }
   ],
   "source": [
    "lr = LogisticRegression()\n",
    "lr.fit(X_train, y_train)\n",
    "y_pred = lr.predict(X_test)\n",
    "y_pred_prob = lr.predict_proba(X_test)\n",
    "\n",
    "print(confusion_matrix(y_test, y_pred))\n",
    "print(classification_report(y_test, y_pred))\n",
    "print(accuracy_score(y_test, y_pred))"
   ]
  },
  {
   "cell_type": "code",
   "execution_count": 5,
   "id": "ea33184b-c024-4630-99fe-ed4cea0ca614",
   "metadata": {},
   "outputs": [
    {
     "name": "stdout",
     "output_type": "stream",
     "text": [
      "1.055786648327205\n"
     ]
    }
   ],
   "source": [
    "print(log_loss(y_test,y_pred_prob))"
   ]
  }
 ],
 "metadata": {
  "kernelspec": {
   "display_name": "Python 3 (ipykernel)",
   "language": "python",
   "name": "python3"
  },
  "language_info": {
   "codemirror_mode": {
    "name": "ipython",
    "version": 3
   },
   "file_extension": ".py",
   "mimetype": "text/x-python",
   "name": "python",
   "nbconvert_exporter": "python",
   "pygments_lexer": "ipython3",
   "version": "3.11.7"
  }
 },
 "nbformat": 4,
 "nbformat_minor": 5
}

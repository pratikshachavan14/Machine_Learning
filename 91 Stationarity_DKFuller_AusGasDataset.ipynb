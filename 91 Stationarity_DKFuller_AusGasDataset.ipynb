{
 "cells": [
  {
   "cell_type": "code",
   "execution_count": 1,
   "id": "c2f5073c-6bfd-4ee9-b256-d5bd938957e7",
   "metadata": {},
   "outputs": [],
   "source": [
    "import pandas as pd\n",
    "import numpy as np\n",
    "from statsmodels.graphics.tsaplots import plot_acf\n",
    "import matplotlib.pyplot as plt\n",
    "import statsmodels.api as sm\n",
    "from statsmodels.tsa.stattools import adfuller"
   ]
  },
  {
   "cell_type": "code",
   "execution_count": 2,
   "id": "2da7009b-d636-4456-a1eb-089192bf60f9",
   "metadata": {},
   "outputs": [
    {
     "data": {
      "text/html": [
       "<div>\n",
       "<style scoped>\n",
       "    .dataframe tbody tr th:only-of-type {\n",
       "        vertical-align: middle;\n",
       "    }\n",
       "\n",
       "    .dataframe tbody tr th {\n",
       "        vertical-align: top;\n",
       "    }\n",
       "\n",
       "    .dataframe thead th {\n",
       "        text-align: right;\n",
       "    }\n",
       "</style>\n",
       "<table border=\"1\" class=\"dataframe\">\n",
       "  <thead>\n",
       "    <tr style=\"text-align: right;\">\n",
       "      <th></th>\n",
       "      <th>Month</th>\n",
       "      <th>GasProd</th>\n",
       "    </tr>\n",
       "  </thead>\n",
       "  <tbody>\n",
       "    <tr>\n",
       "      <th>0</th>\n",
       "      <td>Jan-1956</td>\n",
       "      <td>1709</td>\n",
       "    </tr>\n",
       "    <tr>\n",
       "      <th>1</th>\n",
       "      <td>Feb-1956</td>\n",
       "      <td>1646</td>\n",
       "    </tr>\n",
       "    <tr>\n",
       "      <th>2</th>\n",
       "      <td>Mar-1956</td>\n",
       "      <td>1794</td>\n",
       "    </tr>\n",
       "    <tr>\n",
       "      <th>3</th>\n",
       "      <td>Apr-1956</td>\n",
       "      <td>1878</td>\n",
       "    </tr>\n",
       "    <tr>\n",
       "      <th>4</th>\n",
       "      <td>May-1956</td>\n",
       "      <td>2173</td>\n",
       "    </tr>\n",
       "  </tbody>\n",
       "</table>\n",
       "</div>"
      ],
      "text/plain": [
       "      Month  GasProd\n",
       "0  Jan-1956     1709\n",
       "1  Feb-1956     1646\n",
       "2  Mar-1956     1794\n",
       "3  Apr-1956     1878\n",
       "4  May-1956     2173"
      ]
     },
     "execution_count": 2,
     "metadata": {},
     "output_type": "execute_result"
    }
   ],
   "source": [
    "df = pd.read_csv(\"AusGas.csv\")\n",
    "df.head()"
   ]
  },
  {
   "cell_type": "code",
   "execution_count": 3,
   "id": "db74dcb9-bc3f-40b5-9ef6-235bc64781fd",
   "metadata": {},
   "outputs": [
    {
     "name": "stdout",
     "output_type": "stream",
     "text": [
      "P-value = 0.9981674130928889\n",
      "Time series is not stationary\n"
     ]
    }
   ],
   "source": [
    "#stationarity test: augmented dickey filler test\n",
    "result = adfuller(df['GasProd'], maxlag=10)\n",
    "print(\"P-value =\", result[1])\n",
    "if result[1] < 0.05:\n",
    "    print(\"Time series is stationary\")\n",
    "else:\n",
    "    print(\"Time series is not stationary\")"
   ]
  },
  {
   "cell_type": "code",
   "execution_count": 19,
   "id": "f01773ac-cd24-4763-9e9b-7312d9ac34c3",
   "metadata": {},
   "outputs": [
    {
     "name": "stdout",
     "output_type": "stream",
     "text": [
      "P-value = 0.998969450186538\n",
      "Time series is not stationary\n"
     ]
    }
   ],
   "source": [
    "df1 = pd.read_csv(\"AirPassengers.csv\")\n",
    "df1.head()\n",
    "\n",
    "#stationarity test: augmented dickey filler test\n",
    "result = adfuller(df1['Passengers'], maxlag=10)\n",
    "print(\"P-value =\", result[1])\n",
    "if result[1] < 0.05:\n",
    "    print(\"Time series is stationary\")\n",
    "else:\n",
    "    print(\"Time series is not stationary\")\n",
    "\n",
    "\n"
   ]
  },
  {
   "cell_type": "code",
   "execution_count": 11,
   "id": "20246cb0-e738-41a1-ad66-d87b9b547c61",
   "metadata": {},
   "outputs": [
    {
     "name": "stdout",
     "output_type": "stream",
     "text": [
      "P-value = 0.29693588433339957\n",
      "Time series is not stationary\n"
     ]
    }
   ],
   "source": [
    "df2 = pd.read_csv(\"FMAC-HPI_24420.csv\")\n",
    "df2.head()\n",
    "\n",
    "#stationarity test: augmented dickey filler test\n",
    "result = adfuller(df2['NSA Value'], maxlag=10)\n",
    "print(\"P-value =\", result[1])\n",
    "if result[1] < 0.05:\n",
    "    print(\"Time series is stationary\")\n",
    "else:\n",
    "    print(\"Time series is not stationary\")\n"
   ]
  },
  {
   "cell_type": "code",
   "execution_count": 12,
   "id": "8147a169-1d98-4632-8527-68cb2dd1ab86",
   "metadata": {},
   "outputs": [
    {
     "name": "stdout",
     "output_type": "stream",
     "text": [
      "P-value = 0.6628914373822354\n",
      "Time series is not stationary\n"
     ]
    }
   ],
   "source": [
    "df2 = pd.read_csv(\"FMAC-HPI_24420.csv\")\n",
    "df2.head()\n",
    "\n",
    "#stationarity test: augmented dickey filler test\n",
    "result = adfuller(df2['SA Value'], maxlag=10)\n",
    "print(\"P-value =\", result[1])\n",
    "if result[1] < 0.05:\n",
    "    print(\"Time series is stationary\")\n",
    "else:\n",
    "    print(\"Time series is not stationary\")"
   ]
  },
  {
   "cell_type": "code",
   "execution_count": 13,
   "id": "d7b1983c-2b89-4151-9211-6dc889f2ffd8",
   "metadata": {},
   "outputs": [
    {
     "name": "stdout",
     "output_type": "stream",
     "text": [
      "P-value = 0.4015182663700355\n",
      "Time series is not stationary\n"
     ]
    }
   ],
   "source": [
    "df3 = pd.read_csv(\"Coal Consumption.csv\")\n",
    "df3.head()\n",
    "\n",
    "#stationarity test: augmented dickey filler test\n",
    "result = adfuller(df3['Amount'], maxlag=10)\n",
    "print(\"P-value =\", result[1])\n",
    "if result[1] < 0.05:\n",
    "    print(\"Time series is stationary\")\n",
    "else:\n",
    "    print(\"Time series is not stationary\")"
   ]
  },
  {
   "cell_type": "code",
   "execution_count": 24,
   "id": "a33806a0-c6ad-4ef5-93bc-8bcce110d45e",
   "metadata": {},
   "outputs": [
    {
     "name": "stdout",
     "output_type": "stream",
     "text": [
      "P-value = 0.0\n",
      "Time series is stationary\n"
     ]
    }
   ],
   "source": [
    "diff1 = pd.read_csv(\"AirPassengers.csv\")\n",
    "\n",
    "#first order differentition using diff(1)\n",
    "diff1 = diff1['Passengers'].diff(1)\n",
    "diff1.dropna(inplace = True)\n",
    "\n",
    "#Second order differentition using diff(1) on first order differention\n",
    "diff2 = diff1.diff(1)\n",
    "diff2.dropna(inplace = True)\n",
    "\n",
    "result = adfuller(diff2, maxlag=10)\n",
    "print(\"P-value =\", result[1])\n",
    "if result[1] < 0.05:\n",
    "    print(\"Time series is stationary\")\n",
    "else:\n",
    "    print(\"Time series is not stationary\")"
   ]
  },
  {
   "cell_type": "code",
   "execution_count": 25,
   "id": "767d2027-7ac6-4c2f-b75d-d9ba68d5f497",
   "metadata": {},
   "outputs": [
    {
     "name": "stdout",
     "output_type": "stream",
     "text": [
      "P-value = 5.442541314546984e-12\n",
      "Time series is stationary\n"
     ]
    }
   ],
   "source": [
    "df4 = pd.read_csv(\"FMAC-HPI_24420.csv\")\n",
    "df4.head()\n",
    "\n",
    "#first order differentition using diff(1)\n",
    "df4 = df4['NSA Value'].diff(1)\n",
    "df4.dropna(inplace = True) \n",
    "\n",
    "#Second order differentition using diff(1) on first order differention\n",
    "df_4 = df4.diff(1)\n",
    "df_4.dropna(inplace = True)\n",
    "\n",
    "result = adfuller(df_4, maxlag=10)\n",
    "print(\"P-value =\", result[1])\n",
    "\n",
    "if result[1] < 0.05:\n",
    "    print(\"Time series is stationary\")\n",
    "else:\n",
    "    print(\"Time series is not stationary\")"
   ]
  },
  {
   "cell_type": "code",
   "execution_count": 26,
   "id": "51cdf26c-aa31-4200-919c-94abc007d7be",
   "metadata": {},
   "outputs": [
    {
     "name": "stdout",
     "output_type": "stream",
     "text": [
      "P-value = 0.02548894397330401\n",
      "Time series is stationary\n"
     ]
    }
   ],
   "source": [
    "df4 = pd.read_csv(\"FMAC-HPI_24420.csv\")\n",
    "df4.head()\n",
    "\n",
    "#first order differentition using diff(1)\n",
    "df4 = df4['SA Value'].diff(1)\n",
    "df4.dropna(inplace = True) \n",
    "\n",
    "result = adfuller(df4, maxlag=10)\n",
    "print(\"P-value =\", result[1])\n",
    "\n",
    "if result[1] < 0.05:\n",
    "    print(\"Time series is stationary\")\n",
    "else:\n",
    "    print(\"Time series is not stationary\")"
   ]
  }
 ],
 "metadata": {
  "kernelspec": {
   "display_name": "Python 3 (ipykernel)",
   "language": "python",
   "name": "python3"
  },
  "language_info": {
   "codemirror_mode": {
    "name": "ipython",
    "version": 3
   },
   "file_extension": ".py",
   "mimetype": "text/x-python",
   "name": "python",
   "nbconvert_exporter": "python",
   "pygments_lexer": "ipython3",
   "version": "3.11.7"
  }
 },
 "nbformat": 4,
 "nbformat_minor": 5
}

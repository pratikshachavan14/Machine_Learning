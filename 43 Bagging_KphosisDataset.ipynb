{
 "cells": [
  {
   "cell_type": "code",
   "execution_count": 12,
   "id": "db3d753d-0b98-4fa9-a36c-8c4e3430b023",
   "metadata": {},
   "outputs": [],
   "source": [
    "import pandas as pd\n",
    "import numpy as np\n",
    "import matplotlib.pyplot as plt\n",
    "\n",
    "from sklearn.model_selection import train_test_split\n",
    "from sklearn.metrics import roc_curve, roc_auc_score, accuracy_score, log_loss\n",
    "from sklearn.preprocessing import LabelEncoder\n",
    "from sklearn.metrics import r2_score\n",
    "from sklearn.pipeline import Pipeline\n",
    "from sklearn.linear_model import LogisticRegression\n",
    "from sklearn.tree import plot_tree\n",
    "from sklearn.ensemble import VotingClassifier, VotingRegressor\n",
    "from sklearn.tree import DecisionTreeRegressor \n",
    "from sklearn.linear_model import Ridge, Lasso, ElasticNet\n",
    "from sklearn.model_selection import StratifiedKFold, cross_val_score, KFold\n",
    "from sklearn.model_selection import GridSearchCV, RandomizedSearchCV\n",
    "from sklearn.ensemble import BaggingClassifier\n",
    "from sklearn.tree import DecisionTreeClassifier"
   ]
  },
  {
   "cell_type": "code",
   "execution_count": 13,
   "id": "c8464b74-99cd-4291-aae1-e39144fd1b4d",
   "metadata": {},
   "outputs": [],
   "source": [
    "kyp = pd.read_csv(\"C:/Users/Administrator.DAI-PC2/Desktop/ML/Day 5/Kyphosis.csv\")\n",
    "le = LabelEncoder()\n",
    "y = le.fit_transform(kyp['Kyphosis'])\n",
    "X = kyp.drop('Kyphosis', axis=1)\n",
    "\n",
    "X_train, X_test, y_train, y_test = train_test_split(X, y, test_size = 0.3, random_state=24, stratify=y)\n"
   ]
  },
  {
   "cell_type": "code",
   "execution_count": 24,
   "id": "d7217273-5ddd-460a-ad3c-e9fffa29a0d7",
   "metadata": {},
   "outputs": [
    {
     "name": "stdout",
     "output_type": "stream",
     "text": [
      "OOB score: 0.8214285714285714\n",
      "0.76\n",
      "0.4374045748440284\n"
     ]
    }
   ],
   "source": [
    "#bagging for logistic\n",
    "lr = LogisticRegression()\n",
    "bagg= BaggingClassifier(lr, n_estimators=25, n_jobs=-1, random_state=24, oob_score=True)\n",
    "\n",
    "bagg.fit(X_train, y_train)\n",
    "print(\"OOB score:\",bagg.oob_score_)\n",
    "y_pred = bagg.predict(X_test)\n",
    "print(accuracy_score(y_test, y_pred))\n",
    "y_pred_prob = bagg.predict_proba(X_test)\n",
    "print(log_loss(y_test, y_pred_prob))"
   ]
  },
  {
   "cell_type": "code",
   "execution_count": 19,
   "id": "2e04582c-a7ad-4d6c-a5c3-836eb24a5706",
   "metadata": {},
   "outputs": [
    {
     "name": "stdout",
     "output_type": "stream",
     "text": [
      "0.68\n",
      "1.8960349818768583\n"
     ]
    }
   ],
   "source": [
    "#bagging for decisiontree\n",
    "dtc = DecisionTreeClassifier(random_state=24)\n",
    "bagg1 = BaggingClassifier(dtc, n_estimators=25, n_jobs=-1, random_state=24)\n",
    "\n",
    "bagg1.fit(X_train, y_train)\n",
    "y_pred = bagg1.predict(X_test)\n",
    "print(accuracy_score(y_test, y_pred))\n",
    "y_pred_prob = bagg1.predict_proba(X_test)\n",
    "print(log_loss(y_test, y_pred_prob))"
   ]
  },
  {
   "cell_type": "code",
   "execution_count": 22,
   "id": "e4e543ea-4e63-4180-9658-e405e5484315",
   "metadata": {},
   "outputs": [
    {
     "name": "stdout",
     "output_type": "stream",
     "text": [
      "{'bootstrap': True, 'bootstrap_features': False, 'estimator__C': 1.0, 'estimator__class_weight': None, 'estimator__dual': False, 'estimator__fit_intercept': True, 'estimator__intercept_scaling': 1, 'estimator__l1_ratio': None, 'estimator__max_iter': 100, 'estimator__multi_class': 'auto', 'estimator__n_jobs': None, 'estimator__penalty': 'l2', 'estimator__random_state': None, 'estimator__solver': 'lbfgs', 'estimator__tol': 0.0001, 'estimator__verbose': 0, 'estimator__warm_start': False, 'estimator': LogisticRegression(), 'max_features': 1.0, 'max_samples': 1.0, 'n_estimators': 25, 'n_jobs': -1, 'oob_score': False, 'random_state': 24, 'verbose': 0, 'warm_start': False}\n",
      "-0.4401573364066181\n",
      "{'estimator': LogisticRegression()}\n"
     ]
    }
   ],
   "source": [
    "#grid search\n",
    "print(bagg.get_params())\n",
    "params = {'estimator': [lr, dtc]}\n",
    "kfold = StratifiedKFold(n_splits = 5, shuffle = True, random_state=24)\n",
    "gcv = GridSearchCV(bagg, param_grid = params, cv = kfold, scoring = 'neg_log_loss')\n",
    "gcv.fit(X, y)\n",
    "print(gcv.best_score_)\n",
    "print(gcv.best_params_)"
   ]
  }
 ],
 "metadata": {
  "kernelspec": {
   "display_name": "Python 3 (ipykernel)",
   "language": "python",
   "name": "python3"
  },
  "language_info": {
   "codemirror_mode": {
    "name": "ipython",
    "version": 3
   },
   "file_extension": ".py",
   "mimetype": "text/x-python",
   "name": "python",
   "nbconvert_exporter": "python",
   "pygments_lexer": "ipython3",
   "version": "3.11.7"
  }
 },
 "nbformat": 4,
 "nbformat_minor": 5
}

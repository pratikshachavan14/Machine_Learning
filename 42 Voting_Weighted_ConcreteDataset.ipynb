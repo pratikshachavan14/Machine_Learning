{
 "cells": [
  {
   "cell_type": "code",
   "execution_count": 15,
   "id": "f9a68e6c-3258-46cc-a3dc-52ed3b4cca51",
   "metadata": {},
   "outputs": [],
   "source": [
    "import pandas as pd\n",
    "import numpy as np\n",
    "import matplotlib.pyplot as plt\n",
    "\n",
    "from sklearn.model_selection import train_test_split\n",
    "from sklearn.metrics import r2_score\n",
    "from sklearn.pipeline import Pipeline\n",
    "from sklearn.linear_model import LinearRegression\n",
    "from sklearn.tree import plot_tree\n",
    "from sklearn.ensemble import VotingClassifier, VotingRegressor\n",
    "from sklearn.tree import DecisionTreeRegressor \n",
    "from sklearn.linear_model import Ridge, Lasso, ElasticNet\n",
    "from sklearn.model_selection import StratifiedKFold, cross_val_score, KFold\n",
    "from sklearn.model_selection import GridSearchCV"
   ]
  },
  {
   "cell_type": "code",
   "execution_count": 2,
   "id": "f3ac8f9a-7da8-49a7-ba9e-ecaf0152a161",
   "metadata": {},
   "outputs": [],
   "source": [
    "df = pd.read_csv(\"C:/Users/Administrator.DAI-PC2/Desktop/ML/Day 5/Concrete_Data.csv\")\n",
    "\n",
    "y = df['Strength']\n",
    "X = df.drop('Strength', axis = 1)"
   ]
  },
  {
   "cell_type": "code",
   "execution_count": 3,
   "id": "bf4e88b0-ffaa-4e5c-8532-2d0e0963639d",
   "metadata": {},
   "outputs": [],
   "source": [
    "#performance evaluation using regressors \n",
    "dtr = DecisionTreeRegressor(random_state=24)\n",
    "lr = LinearRegression()\n",
    "ridge = Ridge()\n",
    "lasso = Lasso()\n",
    "\n",
    "voting = VotingRegressor([('LR',lr), ('DTR', dtr), ('RID', ridge), ('LS', lasso)])"
   ]
  },
  {
   "cell_type": "code",
   "execution_count": 4,
   "id": "554e6ee5-c9a7-4a62-8019-e4871d3ee040",
   "metadata": {},
   "outputs": [
    {
     "name": "stdout",
     "output_type": "stream",
     "text": [
      "Voting: 0.726968009759825\n"
     ]
    }
   ],
   "source": [
    "#voting \n",
    "X_train, X_test, y_train, y_test = train_test_split(X, y, test_size = 0.3, random_state=24)\n",
    "\n",
    "voting.fit(X_train, y_train)\n",
    "y_pred = voting.predict(X_test)\n",
    "print(\"Voting:\", r2_score(y_test, y_pred))"
   ]
  },
  {
   "cell_type": "code",
   "execution_count": 5,
   "id": "d73b7fe3-fb5f-48d9-83c4-d39ed15e059c",
   "metadata": {},
   "outputs": [
    {
     "name": "stdout",
     "output_type": "stream",
     "text": [
      "LR: 0.5771752777048791\n"
     ]
    }
   ],
   "source": [
    "#linear regression\n",
    "lr.fit(X_train, y_train)\n",
    "y_pred = lr.predict(X_test)\n",
    "r2_lr = r2_score(y_test, y_pred)\n",
    "print(\"LR:\", r2_lr)"
   ]
  },
  {
   "cell_type": "code",
   "execution_count": 6,
   "id": "76e01819-b4a9-42a0-a859-3bdc20047907",
   "metadata": {},
   "outputs": [
    {
     "name": "stdout",
     "output_type": "stream",
     "text": [
      "TREE: 0.83089474226832\n"
     ]
    }
   ],
   "source": [
    "#decision tree\n",
    "dtr.fit(X_train, y_train)\n",
    "y_pred = dtr.predict(X_test)\n",
    "r2_dtr = r2_score(y_test, y_pred)\n",
    "print(\"TREE:\", r2_dtr)"
   ]
  },
  {
   "cell_type": "code",
   "execution_count": 7,
   "id": "933e603a-9118-4e2f-86a9-1c33c63f3e81",
   "metadata": {},
   "outputs": [
    {
     "name": "stdout",
     "output_type": "stream",
     "text": [
      "RIDGE: 0.5771749099675626\n"
     ]
    }
   ],
   "source": [
    "#ridge\n",
    "ridge.fit(X_train, y_train)\n",
    "y_pred = ridge.predict(X_test)\n",
    "r2_ri = r2_score(y_test, y_pred)\n",
    "print(\"RIDGE:\", r2_ri)"
   ]
  },
  {
   "cell_type": "code",
   "execution_count": 8,
   "id": "9895c8d4-102c-44c5-ab5f-f45b620cc704",
   "metadata": {},
   "outputs": [
    {
     "name": "stdout",
     "output_type": "stream",
     "text": [
      "LASSO: 0.576333587787164\n"
     ]
    }
   ],
   "source": [
    "#lasso\n",
    "lasso.fit(X_train, y_train)\n",
    "y_pred = lasso.predict(X_test)\n",
    "r2_ls = r2_score(y_test, y_pred)\n",
    "print(\"LASSO:\", r2_ls)"
   ]
  },
  {
   "cell_type": "code",
   "execution_count": 9,
   "id": "38cdc93b-cf2e-4016-ad03-497d56e2db7d",
   "metadata": {},
   "outputs": [
    {
     "name": "stdout",
     "output_type": "stream",
     "text": [
      "Weighted voting 0.7604627780013105\n"
     ]
    }
   ],
   "source": [
    "#weighted average\n",
    "voting1 = VotingRegressor([('LR',lr), ('DTR', dtr), ('RID', ridge), ('LS', lasso)], weights=[r2_lr, r2_dtr, r2_ri, r2_ls])\n",
    "voting1.fit(X_train, y_train)\n",
    "y_pred = voting1.predict(X_test)\n",
    "r2_voting = r2_score(y_test, y_pred)\n",
    "print(\"Weighted voting\",r2_voting)"
   ]
  },
  {
   "cell_type": "code",
   "execution_count": 20,
   "id": "cd10b0af-38c6-4165-9581-aad9428473ab",
   "metadata": {},
   "outputs": [
    {
     "name": "stdout",
     "output_type": "stream",
     "text": [
      "0.7444419391024694\n",
      "{'DTR__max_depth': None, 'DTR__min_samples_leaf': 1, 'DTR__min_samples_split': 2, 'LS__alpha': 0.001, 'RID__alpha': 0.001}\n"
     ]
    }
   ],
   "source": [
    "# using GCV and declaring parameters\n",
    "\n",
    "kfold = KFold(n_splits = 5, shuffle = True, random_state=24)\n",
    "\n",
    "params = {'RID__alpha': np.linspace(0.001,3,5), 'LS__alpha': np.linspace(0.001,3,5),\n",
    "          'DTR__max_depth': [None,3, 4, 5], 'DTR__min_samples_leaf':[1, 5, 10], 'DTR__min_samples_split': [2, 5, 10]}\n",
    "gcv = GridSearchCV(voting, param_grid = params, cv = kfold, scoring = 'r2', n_jobs = -1)\n",
    "gcv.fit(X, y)\n",
    "print(gcv.best_score_)\n",
    "print(gcv.best_params_)\n"
   ]
  },
  {
   "cell_type": "code",
   "execution_count": 21,
   "id": "6ef2cdd3-edfd-46bf-9f3c-6222570c15dc",
   "metadata": {},
   "outputs": [
    {
     "name": "stdout",
     "output_type": "stream",
     "text": [
      "0.7754886685757552\n",
      "{'DTR__max_depth': None, 'DTR__min_samples_leaf': 1, 'DTR__min_samples_split': 2, 'LS__alpha': 0.001, 'RID__alpha': 0.001}\n"
     ]
    }
   ],
   "source": [
    "# using GCV and declaring parameters for weighted\n",
    "\n",
    "params = {'RID__alpha': np.linspace(0.001,3,5), 'LS__alpha': np.linspace(0.001,3,5),\n",
    "          'DTR__max_depth': [None,3, 4, 5], 'DTR__min_samples_leaf':[1, 5, 10], 'DTR__min_samples_split': [2, 5, 10]}\n",
    "gcv = GridSearchCV(voting1, param_grid = params, cv = kfold, scoring = 'r2', n_jobs = -1)\n",
    "gcv.fit(X, y)\n",
    "print(gcv.best_score_)\n",
    "print(gcv.best_params_)"
   ]
  },
  {
   "cell_type": "code",
   "execution_count": 10,
   "id": "f6958bf5-ba6e-4b9f-8c38-fae2d0b13d70",
   "metadata": {},
   "outputs": [
    {
     "name": "stdout",
     "output_type": "stream",
     "text": [
      "{'estimators': [('LR', LinearRegression()), ('DTR', DecisionTreeRegressor(random_state=24)), ('RID', Ridge()), ('LS', Lasso())], 'n_jobs': None, 'verbose': False, 'weights': None, 'LR': LinearRegression(), 'DTR': DecisionTreeRegressor(random_state=24), 'RID': Ridge(), 'LS': Lasso(), 'LR__copy_X': True, 'LR__fit_intercept': True, 'LR__n_jobs': None, 'LR__positive': False, 'DTR__ccp_alpha': 0.0, 'DTR__criterion': 'squared_error', 'DTR__max_depth': None, 'DTR__max_features': None, 'DTR__max_leaf_nodes': None, 'DTR__min_impurity_decrease': 0.0, 'DTR__min_samples_leaf': 1, 'DTR__min_samples_split': 2, 'DTR__min_weight_fraction_leaf': 0.0, 'DTR__monotonic_cst': None, 'DTR__random_state': 24, 'DTR__splitter': 'best', 'RID__alpha': 1.0, 'RID__copy_X': True, 'RID__fit_intercept': True, 'RID__max_iter': None, 'RID__positive': False, 'RID__random_state': None, 'RID__solver': 'auto', 'RID__tol': 0.0001, 'LS__alpha': 1.0, 'LS__copy_X': True, 'LS__fit_intercept': True, 'LS__max_iter': 1000, 'LS__positive': False, 'LS__precompute': False, 'LS__random_state': None, 'LS__selection': 'cyclic', 'LS__tol': 0.0001, 'LS__warm_start': False}\n"
     ]
    }
   ],
   "source": [
    "print(voting.get_params())"
   ]
  }
 ],
 "metadata": {
  "kernelspec": {
   "display_name": "Python 3 (ipykernel)",
   "language": "python",
   "name": "python3"
  },
  "language_info": {
   "codemirror_mode": {
    "name": "ipython",
    "version": 3
   },
   "file_extension": ".py",
   "mimetype": "text/x-python",
   "name": "python",
   "nbconvert_exporter": "python",
   "pygments_lexer": "ipython3",
   "version": "3.11.7"
  }
 },
 "nbformat": 4,
 "nbformat_minor": 5
}

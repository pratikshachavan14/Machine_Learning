{
 "cells": [
  {
   "cell_type": "code",
   "execution_count": 1,
   "id": "be472c69-e038-4be7-8b03-01d1aaeb971a",
   "metadata": {},
   "outputs": [],
   "source": [
    "import gradio as gr \n",
    "import pandas as pd\n",
    "import matplotlib.pylab as plt\n",
    "from mlxtend.frequent_patterns import apriori\n",
    "from mlxtend.frequent_patterns import association_rules"
   ]
  },
  {
   "cell_type": "code",
   "execution_count": 2,
   "id": "70130fdb-5d34-423e-a299-abdcc1f01faf",
   "metadata": {},
   "outputs": [],
   "source": [
    "fp_df = pd.read_csv(r'C:\\Users\\Administrator.DAI-PC2\\Desktop\\ML\\Day12\\Cosmetics.csv',\n",
    "                    index_col=0)\n",
    "fp_df = fp_df.astype(bool)"
   ]
  },
  {
   "cell_type": "code",
   "execution_count": 3,
   "id": "11fbc21f-c10a-40f5-8ec5-c666ef579231",
   "metadata": {},
   "outputs": [],
   "source": [
    "def gen_rules(min_sup, min_conf):\n",
    "    itemsets = apriori(fp_df, min_support=min_sup, use_colnames=True)\n",
    "    rules = association_rules(itemsets, metric='confidence', min_threshold=min_conf)\n",
    "    rules = rules[['antecedents', 'consequents', 'support', 'confidence', 'lift']]\n",
    "    rules['antecedents'] = [list(x) for x in rules['antecedents'].values]\n",
    "    rules['consequents'] = [list(x) for x in rules['consequents'].values]\n",
    "    rules = rules[rules['lift']>1]\n",
    "    rules.sort_values(by='lift', ascending=False)\n",
    "    return rules"
   ]
  },
  {
   "cell_type": "code",
   "execution_count": 4,
   "id": "ca593131-7698-4cca-8faf-53cace7253d3",
   "metadata": {},
   "outputs": [
    {
     "name": "stderr",
     "output_type": "stream",
     "text": [
      "C:\\Users\\Administrator.DAI-PC2\\AppData\\Roaming\\Python\\Python311\\site-packages\\gradio\\routes.py:1124: DeprecationWarning: \n",
      "        on_event is deprecated, use lifespan event handlers instead.\n",
      "\n",
      "        Read more about it in the\n",
      "        [FastAPI docs for Lifespan Events](https://fastapi.tiangolo.com/advanced/events/).\n",
      "        \n",
      "  @app.on_event(\"startup\")\n",
      "C:\\Users\\Administrator.DAI-PC2\\AppData\\Roaming\\Python\\Python311\\site-packages\\fastapi\\applications.py:4495: DeprecationWarning: \n",
      "        on_event is deprecated, use lifespan event handlers instead.\n",
      "\n",
      "        Read more about it in the\n",
      "        [FastAPI docs for Lifespan Events](https://fastapi.tiangolo.com/advanced/events/).\n",
      "        \n",
      "  return self.router.on_event(event_type)\n",
      "C:\\Users\\Administrator.DAI-PC2\\AppData\\Roaming\\Python\\Python311\\site-packages\\gradio\\routes.py:1124: DeprecationWarning: \n",
      "        on_event is deprecated, use lifespan event handlers instead.\n",
      "\n",
      "        Read more about it in the\n",
      "        [FastAPI docs for Lifespan Events](https://fastapi.tiangolo.com/advanced/events/).\n",
      "        \n",
      "  @app.on_event(\"startup\")\n",
      "C:\\Users\\Administrator.DAI-PC2\\AppData\\Roaming\\Python\\Python311\\site-packages\\fastapi\\applications.py:4495: DeprecationWarning: \n",
      "        on_event is deprecated, use lifespan event handlers instead.\n",
      "\n",
      "        Read more about it in the\n",
      "        [FastAPI docs for Lifespan Events](https://fastapi.tiangolo.com/advanced/events/).\n",
      "        \n",
      "  return self.router.on_event(event_type)\n"
     ]
    }
   ],
   "source": [
    "demo = gr.Interface(gen_rules, \n",
    "                    inputs= [gr.Slider(value=0.01, step=0.01,\n",
    "                                   label=\"Minimum Support\",\n",
    "                                   minimum=0.0001, maximum=1),\n",
    "                             gr.Slider(value=0.01, step=0.01,\n",
    "                                   label=\"Minimum Confidence\",    \n",
    "                                   minimum=0.0001, maximum=1)], \n",
    "                    outputs='dataframe')"
   ]
  },
  {
   "cell_type": "code",
   "execution_count": 5,
   "id": "d73b1e2d-d811-4166-b520-fa452b1af342",
   "metadata": {},
   "outputs": [
    {
     "name": "stderr",
     "output_type": "stream",
     "text": [
      "C:\\Users\\Administrator.DAI-PC2\\AppData\\Roaming\\Python\\Python311\\site-packages\\gradio\\routes.py:1124: DeprecationWarning: \n",
      "        on_event is deprecated, use lifespan event handlers instead.\n",
      "\n",
      "        Read more about it in the\n",
      "        [FastAPI docs for Lifespan Events](https://fastapi.tiangolo.com/advanced/events/).\n",
      "        \n",
      "  @app.on_event(\"startup\")\n",
      "C:\\Users\\Administrator.DAI-PC2\\AppData\\Roaming\\Python\\Python311\\site-packages\\fastapi\\applications.py:4495: DeprecationWarning: \n",
      "        on_event is deprecated, use lifespan event handlers instead.\n",
      "\n",
      "        Read more about it in the\n",
      "        [FastAPI docs for Lifespan Events](https://fastapi.tiangolo.com/advanced/events/).\n",
      "        \n",
      "  return self.router.on_event(event_type)\n"
     ]
    },
    {
     "name": "stdout",
     "output_type": "stream",
     "text": [
      "Running on local URL:  http://127.0.0.1:7860\n",
      "\n",
      "To create a public link, set `share=True` in `launch()`.\n"
     ]
    },
    {
     "data": {
      "text/html": [
       "<div><iframe src=\"http://127.0.0.1:7860/\" width=\"100%\" height=\"500\" allow=\"autoplay; camera; microphone; clipboard-read; clipboard-write;\" frameborder=\"0\" allowfullscreen></iframe></div>"
      ],
      "text/plain": [
       "<IPython.core.display.HTML object>"
      ]
     },
     "metadata": {},
     "output_type": "display_data"
    }
   ],
   "source": [
    "if __name__ == \"__main__\":\n",
    "    demo.launch()"
   ]
  }
 ],
 "metadata": {
  "kernelspec": {
   "display_name": "Python 3 (ipykernel)",
   "language": "python",
   "name": "python3"
  },
  "language_info": {
   "codemirror_mode": {
    "name": "ipython",
    "version": 3
   },
   "file_extension": ".py",
   "mimetype": "text/x-python",
   "name": "python",
   "nbconvert_exporter": "python",
   "pygments_lexer": "ipython3",
   "version": "3.11.7"
  }
 },
 "nbformat": 4,
 "nbformat_minor": 5
}

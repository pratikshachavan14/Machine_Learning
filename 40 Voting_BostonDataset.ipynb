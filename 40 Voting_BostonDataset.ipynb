{
 "cells": [
  {
   "cell_type": "code",
   "execution_count": 1,
   "id": "c9c4c1e4-76be-4577-b898-48a93710518f",
   "metadata": {},
   "outputs": [],
   "source": [
    "import pandas as pd\n",
    "import numpy as np\n",
    "import matplotlib.pyplot as plt\n",
    "\n",
    "from sklearn.model_selection import train_test_split\n",
    "from sklearn.metrics import r2_score\n",
    "from sklearn.pipeline import Pipeline\n",
    "from sklearn.linear_model import LinearRegression\n",
    "from sklearn.tree import plot_tree\n",
    "from sklearn.ensemble import VotingClassifier, VotingRegressor\n",
    "from sklearn.tree import DecisionTreeRegressor \n",
    "from sklearn.linear_model import Ridge, Lasso, ElasticNet"
   ]
  },
  {
   "cell_type": "code",
   "execution_count": 2,
   "id": "933e7522-c6f5-4b20-89fb-bf2922ed051d",
   "metadata": {},
   "outputs": [],
   "source": [
    "df = pd.read_csv(\"C:/Users/Administrator.DAI-PC2/Desktop/ML/Day 4/Boston.csv\")\n",
    "\n",
    "y = df['medv']\n",
    "X = df.drop('medv', axis = 1)"
   ]
  },
  {
   "cell_type": "code",
   "execution_count": 3,
   "id": "668e50eb-73cd-46b2-968f-3af4c198524b",
   "metadata": {},
   "outputs": [],
   "source": [
    "#performance evaluation using regressors \n",
    "dtr = DecisionTreeRegressor(random_state=24)\n",
    "lr = LinearRegression()\n",
    "ridge = Ridge()\n",
    "lasso = Lasso()\n",
    "\n",
    "voting = VotingRegressor([('LR',lr), ('DTR', dtr), ('RID', ridge), ('LS', lasso)])"
   ]
  },
  {
   "cell_type": "code",
   "execution_count": 4,
   "id": "50b639cb-78b5-46f8-acd7-4c16404feef8",
   "metadata": {},
   "outputs": [
    {
     "name": "stdout",
     "output_type": "stream",
     "text": [
      "Voting: 0.7662417788335778\n"
     ]
    }
   ],
   "source": [
    "#voting \n",
    "X_train, X_test, y_train, y_test = train_test_split(X, y, test_size = 0.3, random_state=24)\n",
    "\n",
    "voting.fit(X_train, y_train)\n",
    "y_pred = voting.predict(X_test)\n",
    "print(\"Voting:\", r2_score(y_test, y_pred))"
   ]
  },
  {
   "cell_type": "code",
   "execution_count": 5,
   "id": "aa0bc6f1-73e1-41fe-95b0-29662d2c3b55",
   "metadata": {},
   "outputs": [
    {
     "name": "stdout",
     "output_type": "stream",
     "text": [
      "LR: 0.7133431144123461\n"
     ]
    }
   ],
   "source": [
    "#linear regression\n",
    "lr.fit(X_train, y_train)\n",
    "y_pred = lr.predict(X_test)\n",
    "r2_lr = r2_score(y_test, y_pred)\n",
    "print(\"LR:\", r2_lr)"
   ]
  },
  {
   "cell_type": "code",
   "execution_count": 6,
   "id": "0cd8a763-22e4-40cb-a67f-ae4482ad7577",
   "metadata": {},
   "outputs": [
    {
     "name": "stdout",
     "output_type": "stream",
     "text": [
      "TREE: 0.6890095717029594\n"
     ]
    }
   ],
   "source": [
    "#decision tree\n",
    "dtr.fit(X_train, y_train)\n",
    "y_pred = dtr.predict(X_test)\n",
    "r2_dtr = r2_score(y_test, y_pred)\n",
    "print(\"TREE:\", r2_dtr)"
   ]
  },
  {
   "cell_type": "code",
   "execution_count": 7,
   "id": "206cdda5-c7b7-4425-b303-6d9a939319e4",
   "metadata": {},
   "outputs": [
    {
     "name": "stdout",
     "output_type": "stream",
     "text": [
      "RIDGE: 0.7032547843448863\n"
     ]
    }
   ],
   "source": [
    "#ridge\n",
    "ridge.fit(X_train, y_train)\n",
    "y_pred = ridge.predict(X_test)\n",
    "r2_ri = r2_score(y_test, y_pred)\n",
    "print(\"RIDGE:\", r2_ri)"
   ]
  },
  {
   "cell_type": "code",
   "execution_count": 8,
   "id": "f41012c0-9922-44df-bebf-a005e007741b",
   "metadata": {},
   "outputs": [
    {
     "name": "stdout",
     "output_type": "stream",
     "text": [
      "LASSO: 0.6691475894016609\n"
     ]
    }
   ],
   "source": [
    "#lasso\n",
    "lasso.fit(X_train, y_train)\n",
    "y_pred = lasso.predict(X_test)\n",
    "r2_ls = r2_score(y_test, y_pred)\n",
    "print(\"LASSO:\", r2_ls)"
   ]
  },
  {
   "cell_type": "code",
   "execution_count": 10,
   "id": "d95ddb3d-9982-48ab-acd6-42f738e5978a",
   "metadata": {},
   "outputs": [
    {
     "name": "stdout",
     "output_type": "stream",
     "text": [
      "Weighted voting 0.7662237865015749\n"
     ]
    }
   ],
   "source": [
    "#weighted average\n",
    "voting1 = VotingRegressor([('LR',lr), ('DTR', dtr), ('RID', ridge), ('LS', lasso)], weights=[r2_lr, r2_dtr, r2_ri, r2_ls])\n",
    "voting1.fit(X_train, y_train)\n",
    "y_pred = voting1.predict(X_test)\n",
    "r2_voting = r2_score(y_test, y_pred)\n",
    "print(\"Weighted voting\",r2_voting)"
   ]
  }
 ],
 "metadata": {
  "kernelspec": {
   "display_name": "Python 3 (ipykernel)",
   "language": "python",
   "name": "python3"
  },
  "language_info": {
   "codemirror_mode": {
    "name": "ipython",
    "version": 3
   },
   "file_extension": ".py",
   "mimetype": "text/x-python",
   "name": "python",
   "nbconvert_exporter": "python",
   "pygments_lexer": "ipython3",
   "version": "3.11.7"
  }
 },
 "nbformat": 4,
 "nbformat_minor": 5
}

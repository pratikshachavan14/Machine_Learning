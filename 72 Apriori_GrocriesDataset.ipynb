{
 "cells": [
  {
   "cell_type": "code",
   "execution_count": 1,
   "id": "c256212b-bcd6-4191-99d1-53c815165ae4",
   "metadata": {},
   "outputs": [],
   "source": [
    "from scipy.cluster.hierarchy import linkage, dendrogram\n",
    "import matplotlib.pyplot as plt\n",
    "import pandas as pd\n",
    "import numpy as np\n",
    "from sklearn.preprocessing import StandardScaler\n",
    "import seaborn as sns\n",
    "from sklearn.cluster import AgglomerativeClustering, KMeans\n",
    "from sklearn.metrics import silhouette_score\n",
    "from sklearn.decomposition import PCA\n",
    "import seaborn as sns\n",
    "from mlxtend.frequent_patterns import apriori, association_rules\n",
    "from mlxtend.preprocessing import TransactionEncoder"
   ]
  },
  {
   "cell_type": "code",
   "execution_count": 2,
   "id": "924376a7-4a25-4a40-988b-7c069dc1b61b",
   "metadata": {},
   "outputs": [],
   "source": [
    "groceries = []\n",
    "with open(r\"C:\\Users\\Administrator.DAI-PC2\\Desktop\\ML\\Day12\\Groceries.csv\", \"r\") as f:groceries=f.read()\n",
    "groceries = groceries.split(\"\\n\")"
   ]
  },
  {
   "cell_type": "code",
   "execution_count": 3,
   "id": "b4474d79-fd34-4b2c-8a0c-4b8d43d98df6",
   "metadata": {},
   "outputs": [],
   "source": [
    "groceries_list = []\n",
    "for i in groceries:\n",
    "    groceries_list.append(i.split(\",\"))"
   ]
  },
  {
   "cell_type": "code",
   "execution_count": 4,
   "id": "969df721-4931-4419-9d31-677f97d87e0c",
   "metadata": {},
   "outputs": [
    {
     "data": {
      "text/plain": [
       "array([[False, False, False, ..., False, False, False],\n",
       "       [False, False, False, ..., False,  True, False],\n",
       "       [False, False, False, ...,  True, False, False],\n",
       "       ...,\n",
       "       [False, False, False, ..., False,  True, False],\n",
       "       [False, False, False, ..., False, False, False],\n",
       "       [False, False, False, ..., False, False, False]])"
      ]
     },
     "execution_count": 4,
     "metadata": {},
     "output_type": "execute_result"
    }
   ],
   "source": [
    "te = TransactionEncoder()\n",
    "te_ary = te.fit(groceries_list).transform(groceries_list)\n",
    "te_ary"
   ]
  },
  {
   "cell_type": "code",
   "execution_count": 5,
   "id": "0d95f105-a97f-482b-a9bc-821d09c56a58",
   "metadata": {},
   "outputs": [],
   "source": [
    "fp_df = pd.DataFrame(te_ary, columns = te.columns_)"
   ]
  },
  {
   "cell_type": "code",
   "execution_count": 6,
   "id": "f315c8c5-a824-41a9-81ef-290bbb7f97b6",
   "metadata": {},
   "outputs": [],
   "source": [
    "#support of 1_tem freq sets\n",
    "itemFrequency = fp_df.sum(axis=0) / len(fp_df)\n",
    "itemFrequency = itemFrequency.sort_values(ascending=False)"
   ]
  },
  {
   "cell_type": "code",
   "execution_count": 7,
   "id": "3b10b593-b7ef-486d-abda-1b7e12506c87",
   "metadata": {},
   "outputs": [
    {
     "data": {
      "image/png": "[encoded data removed]",
      "text/plain": [
       "<Figure size 640x480 with 1 Axes>"
      ]
     },
     "metadata": {},
     "output_type": "display_data"
    }
   ],
   "source": [
    "#and plot as histogram\n",
    "ax = itemFrequency[:10].plot.barh(color='lightblue')\n",
    "plt.ylabel('Item frequency (relative) of Top 10')\n",
    "plt.show()"
   ]
  },
  {
   "cell_type": "code",
   "execution_count": 9,
   "id": "1cf7a593-8512-4ec2-86d4-071ee359cc8a",
   "metadata": {},
   "outputs": [
    {
     "data": {
      "text/html": [
       "<div>\n",
       "<style scoped>\n",
       "    .dataframe tbody tr th:only-of-type {\n",
       "        vertical-align: middle;\n",
       "    }\n",
       "\n",
       "    .dataframe tbody tr th {\n",
       "        vertical-align: top;\n",
       "    }\n",
       "\n",
       "    .dataframe thead th {\n",
       "        text-align: right;\n",
       "    }\n",
       "</style>\n",
       "<table border=\"1\" class=\"dataframe\">\n",
       "  <thead>\n",
       "    <tr style=\"text-align: right;\">\n",
       "      <th></th>\n",
       "      <th>support</th>\n",
       "      <th>itemsets</th>\n",
       "    </tr>\n",
       "  </thead>\n",
       "  <tbody>\n",
       "    <tr>\n",
       "      <th>0</th>\n",
       "      <td>0.033452</td>\n",
       "      <td>(UHT-milk)</td>\n",
       "    </tr>\n",
       "    <tr>\n",
       "      <th>1</th>\n",
       "      <td>0.017692</td>\n",
       "      <td>(baking powder)</td>\n",
       "    </tr>\n",
       "    <tr>\n",
       "      <th>2</th>\n",
       "      <td>0.052466</td>\n",
       "      <td>(beef)</td>\n",
       "    </tr>\n",
       "    <tr>\n",
       "      <th>3</th>\n",
       "      <td>0.033249</td>\n",
       "      <td>(berries)</td>\n",
       "    </tr>\n",
       "    <tr>\n",
       "      <th>4</th>\n",
       "      <td>0.026029</td>\n",
       "      <td>(beverages)</td>\n",
       "    </tr>\n",
       "    <tr>\n",
       "      <th>...</th>\n",
       "      <td>...</td>\n",
       "      <td>...</td>\n",
       "    </tr>\n",
       "    <tr>\n",
       "      <th>328</th>\n",
       "      <td>0.011998</td>\n",
       "      <td>(root vegetables, whole milk, tropical fruit)</td>\n",
       "    </tr>\n",
       "    <tr>\n",
       "      <th>329</th>\n",
       "      <td>0.014540</td>\n",
       "      <td>(root vegetables, yogurt, whole milk)</td>\n",
       "    </tr>\n",
       "    <tr>\n",
       "      <th>330</th>\n",
       "      <td>0.010473</td>\n",
       "      <td>(yogurt, whole milk, soda)</td>\n",
       "    </tr>\n",
       "    <tr>\n",
       "      <th>331</th>\n",
       "      <td>0.015150</td>\n",
       "      <td>(yogurt, whole milk, tropical fruit)</td>\n",
       "    </tr>\n",
       "    <tr>\n",
       "      <th>332</th>\n",
       "      <td>0.010880</td>\n",
       "      <td>(whipped/sour cream, yogurt, whole milk)</td>\n",
       "    </tr>\n",
       "  </tbody>\n",
       "</table>\n",
       "<p>333 rows × 2 columns</p>\n",
       "</div>"
      ],
      "text/plain": [
       "      support                                       itemsets\n",
       "0    0.033452                                     (UHT-milk)\n",
       "1    0.017692                                (baking powder)\n",
       "2    0.052466                                         (beef)\n",
       "3    0.033249                                      (berries)\n",
       "4    0.026029                                    (beverages)\n",
       "..        ...                                            ...\n",
       "328  0.011998  (root vegetables, whole milk, tropical fruit)\n",
       "329  0.014540          (root vegetables, yogurt, whole milk)\n",
       "330  0.010473                     (yogurt, whole milk, soda)\n",
       "331  0.015150           (yogurt, whole milk, tropical fruit)\n",
       "332  0.010880       (whipped/sour cream, yogurt, whole milk)\n",
       "\n",
       "[333 rows x 2 columns]"
      ]
     },
     "execution_count": 9,
     "metadata": {},
     "output_type": "execute_result"
    }
   ],
   "source": [
    "#create frequency itemsets\n",
    "itemsets = apriori(fp_df, min_support=0.01, use_colnames=True)\n",
    "itemsets"
   ]
  },
  {
   "cell_type": "code",
   "execution_count": 11,
   "id": "d20ccde3-af38-48c8-905c-13e85237d384",
   "metadata": {},
   "outputs": [
    {
     "data": {
      "text/html": [
       "<div>\n",
       "<style scoped>\n",
       "    .dataframe tbody tr th:only-of-type {\n",
       "        vertical-align: middle;\n",
       "    }\n",
       "\n",
       "    .dataframe tbody tr th {\n",
       "        vertical-align: top;\n",
       "    }\n",
       "\n",
       "    .dataframe thead th {\n",
       "        text-align: right;\n",
       "    }\n",
       "</style>\n",
       "<table border=\"1\" class=\"dataframe\">\n",
       "  <thead>\n",
       "    <tr style=\"text-align: right;\">\n",
       "      <th></th>\n",
       "      <th>antecedents</th>\n",
       "      <th>consequents</th>\n",
       "      <th>antecedent support</th>\n",
       "      <th>consequent support</th>\n",
       "      <th>support</th>\n",
       "      <th>confidence</th>\n",
       "      <th>lift</th>\n",
       "      <th>leverage</th>\n",
       "      <th>conviction</th>\n",
       "      <th>zhangs_metric</th>\n",
       "    </tr>\n",
       "  </thead>\n",
       "  <tbody>\n",
       "    <tr>\n",
       "      <th>1</th>\n",
       "      <td>(root vegetables, citrus fruit)</td>\n",
       "      <td>(other vegetables)</td>\n",
       "      <td>0.017692</td>\n",
       "      <td>0.193493</td>\n",
       "      <td>0.010371</td>\n",
       "      <td>0.586207</td>\n",
       "      <td>3.029608</td>\n",
       "      <td>0.006948</td>\n",
       "      <td>1.949059</td>\n",
       "      <td>0.681990</td>\n",
       "    </tr>\n",
       "    <tr>\n",
       "      <th>6</th>\n",
       "      <td>(root vegetables, tropical fruit)</td>\n",
       "      <td>(other vegetables)</td>\n",
       "      <td>0.021047</td>\n",
       "      <td>0.193493</td>\n",
       "      <td>0.012303</td>\n",
       "      <td>0.584541</td>\n",
       "      <td>3.020999</td>\n",
       "      <td>0.008231</td>\n",
       "      <td>1.941244</td>\n",
       "      <td>0.683367</td>\n",
       "    </tr>\n",
       "    <tr>\n",
       "      <th>5</th>\n",
       "      <td>(root vegetables, rolls/buns)</td>\n",
       "      <td>(other vegetables)</td>\n",
       "      <td>0.024301</td>\n",
       "      <td>0.193493</td>\n",
       "      <td>0.012201</td>\n",
       "      <td>0.502092</td>\n",
       "      <td>2.594890</td>\n",
       "      <td>0.007499</td>\n",
       "      <td>1.619792</td>\n",
       "      <td>0.629935</td>\n",
       "    </tr>\n",
       "    <tr>\n",
       "      <th>7</th>\n",
       "      <td>(root vegetables, yogurt)</td>\n",
       "      <td>(other vegetables)</td>\n",
       "      <td>0.025826</td>\n",
       "      <td>0.193493</td>\n",
       "      <td>0.012913</td>\n",
       "      <td>0.500000</td>\n",
       "      <td>2.584078</td>\n",
       "      <td>0.007916</td>\n",
       "      <td>1.613015</td>\n",
       "      <td>0.629266</td>\n",
       "    </tr>\n",
       "    <tr>\n",
       "      <th>2</th>\n",
       "      <td>(yogurt, curd)</td>\n",
       "      <td>(whole milk)</td>\n",
       "      <td>0.017285</td>\n",
       "      <td>0.255516</td>\n",
       "      <td>0.010066</td>\n",
       "      <td>0.582353</td>\n",
       "      <td>2.279125</td>\n",
       "      <td>0.005649</td>\n",
       "      <td>1.782567</td>\n",
       "      <td>0.571107</td>\n",
       "    </tr>\n",
       "    <tr>\n",
       "      <th>0</th>\n",
       "      <td>(other vegetables, butter)</td>\n",
       "      <td>(whole milk)</td>\n",
       "      <td>0.020031</td>\n",
       "      <td>0.255516</td>\n",
       "      <td>0.011490</td>\n",
       "      <td>0.573604</td>\n",
       "      <td>2.244885</td>\n",
       "      <td>0.006371</td>\n",
       "      <td>1.745992</td>\n",
       "      <td>0.565878</td>\n",
       "    </tr>\n",
       "  </tbody>\n",
       "</table>\n",
       "</div>"
      ],
      "text/plain": [
       "                         antecedents         consequents  antecedent support  \\\n",
       "1    (root vegetables, citrus fruit)  (other vegetables)            0.017692   \n",
       "6  (root vegetables, tropical fruit)  (other vegetables)            0.021047   \n",
       "5      (root vegetables, rolls/buns)  (other vegetables)            0.024301   \n",
       "7          (root vegetables, yogurt)  (other vegetables)            0.025826   \n",
       "2                     (yogurt, curd)        (whole milk)            0.017285   \n",
       "0         (other vegetables, butter)        (whole milk)            0.020031   \n",
       "\n",
       "   consequent support   support  confidence      lift  leverage  conviction  \\\n",
       "1            0.193493  0.010371    0.586207  3.029608  0.006948    1.949059   \n",
       "6            0.193493  0.012303    0.584541  3.020999  0.008231    1.941244   \n",
       "5            0.193493  0.012201    0.502092  2.594890  0.007499    1.619792   \n",
       "7            0.193493  0.012913    0.500000  2.584078  0.007916    1.613015   \n",
       "2            0.255516  0.010066    0.582353  2.279125  0.005649    1.782567   \n",
       "0            0.255516  0.011490    0.573604  2.244885  0.006371    1.745992   \n",
       "\n",
       "   zhangs_metric  \n",
       "1       0.681990  \n",
       "6       0.683367  \n",
       "5       0.629935  \n",
       "7       0.629266  \n",
       "2       0.571107  \n",
       "0       0.565878  "
      ]
     },
     "execution_count": 11,
     "metadata": {},
     "output_type": "execute_result"
    }
   ],
   "source": [
    "rules = association_rules(itemsets, metric = 'confidence', min_threshold=0.5)\n",
    "rules.sort_values(by=['lift'], ascending=False).head(6)"
   ]
  },
  {
   "cell_type": "code",
   "execution_count": 12,
   "id": "c5f2bbc6-0c3b-4c88-9890-c6be00e6af51",
   "metadata": {},
   "outputs": [
    {
     "name": "stdout",
     "output_type": "stream",
     "text": [
      "                         antecedents         consequents   support  \\\n",
      "1    (root vegetables, citrus fruit)  (other vegetables)  0.010371   \n",
      "6  (root vegetables, tropical fruit)  (other vegetables)  0.012303   \n",
      "5      (root vegetables, rolls/buns)  (other vegetables)  0.012201   \n",
      "7          (root vegetables, yogurt)  (other vegetables)  0.012913   \n",
      "2                     (yogurt, curd)        (whole milk)  0.010066   \n",
      "\n",
      "   confidence      lift  \n",
      "1    0.586207  3.029608  \n",
      "6    0.584541  3.020999  \n",
      "5    0.502092  2.594890  \n",
      "7    0.500000  2.584078  \n",
      "2    0.582353  2.279125  \n"
     ]
    }
   ],
   "source": [
    "rules_df = rules[rules[\"lift\"]>1]\n",
    "rules_df = rules.sort_values(by=['lift'], ascending=False).head()\n",
    "print(rules_df[['antecedents', 'consequents', 'support', 'confidence', 'lift']])"
   ]
  }
 ],
 "metadata": {
  "kernelspec": {
   "display_name": "Python 3 (ipykernel)",
   "language": "python",
   "name": "python3"
  },
  "language_info": {
   "codemirror_mode": {
    "name": "ipython",
    "version": 3
   },
   "file_extension": ".py",
   "mimetype": "text/x-python",
   "name": "python",
   "nbconvert_exporter": "python",
   "pygments_lexer": "ipython3",
   "version": "3.11.7"
  }
 },
 "nbformat": 4,
 "nbformat_minor": 5
}

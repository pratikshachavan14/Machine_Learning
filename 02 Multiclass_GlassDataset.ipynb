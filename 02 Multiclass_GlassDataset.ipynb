{
 "cells": [
  {
   "cell_type": "code",
   "execution_count": 21,
   "id": "166a16b6-cc32-4a24-9e1f-b64e1c90ded7",
   "metadata": {},
   "outputs": [],
   "source": [
    "import pandas as pd\n",
    "import numpy as np\n",
    "import matplotlib.pyplot as plt\n",
    "\n",
    "from sklearn.model_selection import train_test_split\n",
    "from sklearn.metrics import confusion_matrix, classification_report\n",
    "from sklearn.metrics import accuracy_score\n",
    "from sklearn.naive_bayes import GaussianNB\n",
    "from sklearn.metrics import roc_curve, roc_auc_score\n",
    "from sklearn.preprocessing import LabelEncoder\n",
    "from sklearn.linear_model import LogisticRegression\n",
    "from sklearn.metrics import log_loss"
   ]
  },
  {
   "cell_type": "code",
   "execution_count": 27,
   "id": "54424c6b-2d35-4bbb-9cf7-dc1f62c11150",
   "metadata": {},
   "outputs": [
    {
     "name": "stdout",
     "output_type": "stream",
     "text": [
      "['building_windows_float_processed' 'building_windows_non_float_processed'\n",
      " 'containers' 'headlamps' 'tableware' 'vehicle_windows_float_processed']\n",
      "[[ 9  3  0  0  0  9]\n",
      " [10  6  1  0  0  6]\n",
      " [ 0  4  0  0  0  0]\n",
      " [ 1  0  0  8  0  0]\n",
      " [ 0  0  0  2  1  0]\n",
      " [ 2  0  0  0  1  2]]\n",
      "              precision    recall  f1-score   support\n",
      "\n",
      "           0       0.41      0.43      0.42        21\n",
      "           1       0.46      0.26      0.33        23\n",
      "           2       0.00      0.00      0.00         4\n",
      "           3       0.80      0.89      0.84         9\n",
      "           4       0.50      0.33      0.40         3\n",
      "           5       0.12      0.40      0.18         5\n",
      "\n",
      "    accuracy                           0.40        65\n",
      "   macro avg       0.38      0.39      0.36        65\n",
      "weighted avg       0.44      0.40      0.40        65\n",
      "\n",
      "0.4\n"
     ]
    }
   ],
   "source": [
    "df = pd.read_csv(\"C:/Users/Administrator.DAI-PC2/Desktop/ML/Day1/Glass.csv\")\n",
    "le = LabelEncoder()\n",
    "y = le.fit_transform(df[\"Type\"])\n",
    "X = df.drop(\"Type\", axis = 1)\n",
    "\n",
    "print(le.classes_)\n",
    "\n",
    "X_train, X_test, y_train, y_test = train_test_split(X, y, test_size = 0.3, random_state=2021, stratify=y)\n",
    "\n",
    "gaussian = GaussianNB()\n",
    "gaussian.fit(X_train, y_train)\n",
    "y_pred = gaussian.predict(X_test)\n",
    "y_pred_prob = gaussian.predict_proba(X_test)\n",
    "\n",
    "print(confusion_matrix(y_test, y_pred))\n",
    "print(classification_report(y_test, y_pred))\n",
    "print(accuracy_score(y_test, y_pred))"
   ]
  },
  {
   "cell_type": "code",
   "execution_count": 25,
   "id": "46041029-3bd0-48aa-b198-03a1f9626711",
   "metadata": {},
   "outputs": [
    {
     "name": "stdout",
     "output_type": "stream",
     "text": [
      "[[15  6  0  0  0  0]\n",
      " [ 8 14  0  0  1  0]\n",
      " [ 0  4  0  0  0  0]\n",
      " [ 1  0  0  8  0  0]\n",
      " [ 0  1  0  2  0  0]\n",
      " [ 2  3  0  0  0  0]]\n",
      "              precision    recall  f1-score   support\n",
      "\n",
      "           0       0.58      0.71      0.64        21\n",
      "           1       0.50      0.61      0.55        23\n",
      "           2       0.00      0.00      0.00         4\n",
      "           3       0.80      0.89      0.84         9\n",
      "           4       0.00      0.00      0.00         3\n",
      "           5       0.00      0.00      0.00         5\n",
      "\n",
      "    accuracy                           0.57        65\n",
      "   macro avg       0.31      0.37      0.34        65\n",
      "weighted avg       0.47      0.57      0.52        65\n",
      "\n",
      "0.5692307692307692\n"
     ]
    },
    {
     "name": "stderr",
     "output_type": "stream",
     "text": [
      "C:\\ProgramData\\anaconda3\\Lib\\site-packages\\sklearn\\linear_model\\_logistic.py:458: ConvergenceWarning: lbfgs failed to converge (status=1):\n",
      "STOP: TOTAL NO. of ITERATIONS REACHED LIMIT.\n",
      "\n",
      "Increase the number of iterations (max_iter) or scale the data as shown in:\n",
      "    https://scikit-learn.org/stable/modules/preprocessing.html\n",
      "Please also refer to the documentation for alternative solver options:\n",
      "    https://scikit-learn.org/stable/modules/linear_model.html#logistic-regression\n",
      "  n_iter_i = _check_optimize_result(\n",
      "C:\\ProgramData\\anaconda3\\Lib\\site-packages\\sklearn\\metrics\\_classification.py:1344: UndefinedMetricWarning: Precision and F-score are ill-defined and being set to 0.0 in labels with no predicted samples. Use `zero_division` parameter to control this behavior.\n",
      "  _warn_prf(average, modifier, msg_start, len(result))\n",
      "C:\\ProgramData\\anaconda3\\Lib\\site-packages\\sklearn\\metrics\\_classification.py:1344: UndefinedMetricWarning: Precision and F-score are ill-defined and being set to 0.0 in labels with no predicted samples. Use `zero_division` parameter to control this behavior.\n",
      "  _warn_prf(average, modifier, msg_start, len(result))\n",
      "C:\\ProgramData\\anaconda3\\Lib\\site-packages\\sklearn\\metrics\\_classification.py:1344: UndefinedMetricWarning: Precision and F-score are ill-defined and being set to 0.0 in labels with no predicted samples. Use `zero_division` parameter to control this behavior.\n",
      "  _warn_prf(average, modifier, msg_start, len(result))\n"
     ]
    }
   ],
   "source": [
    "lr = LogisticRegression()\n",
    "lr.fit(X_train, y_train)\n",
    "y_pred = lr.predict(X_test)\n",
    "y_pred_prob = lr.predict_proba(X_test)\n",
    "\n",
    "print(confusion_matrix(y_test, y_pred))\n",
    "print(classification_report(y_test, y_pred))\n",
    "print(accuracy_score(y_test, y_pred))"
   ]
  },
  {
   "cell_type": "code",
   "execution_count": 26,
   "id": "f904b112-66d3-4d21-846d-12d7cc509bc2",
   "metadata": {},
   "outputs": [
    {
     "name": "stdout",
     "output_type": "stream",
     "text": [
      "1.0574757400041306\n"
     ]
    }
   ],
   "source": [
    "print(log_loss(y_test,y_pred_prob))"
   ]
  }
 ],
 "metadata": {
  "kernelspec": {
   "display_name": "Python 3 (ipykernel)",
   "language": "python",
   "name": "python3"
  },
  "language_info": {
   "codemirror_mode": {
    "name": "ipython",
    "version": 3
   },
   "file_extension": ".py",
   "mimetype": "text/x-python",
   "name": "python",
   "nbconvert_exporter": "python",
   "pygments_lexer": "ipython3",
   "version": "3.11.7"
  }
 },
 "nbformat": 4,
 "nbformat_minor": 5
}

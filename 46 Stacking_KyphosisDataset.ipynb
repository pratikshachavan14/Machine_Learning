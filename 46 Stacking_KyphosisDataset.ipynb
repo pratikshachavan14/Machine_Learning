{
 "cells": [
  {
   "cell_type": "code",
   "execution_count": 4,
   "id": "15d39013-9b29-43ac-8dfa-0144a595e3b5",
   "metadata": {},
   "outputs": [],
   "source": [
    "import pandas as pd\n",
    "import numpy as np\n",
    "import matplotlib.pyplot as plt\n",
    "\n",
    "from sklearn.model_selection import train_test_split\n",
    "from sklearn.metrics import confusion_matrix, classification_report\n",
    "from sklearn.metrics import accuracy_score\n",
    "from sklearn.metrics import roc_curve, roc_auc_score\n",
    "from sklearn.preprocessing import LabelEncoder\n",
    "from sklearn.linear_model import LogisticRegression\n",
    "from sklearn.metrics import log_loss\n",
    "from sklearn.model_selection import StratifiedKFold\n",
    "from sklearn.model_selection import GridSearchCV\n",
    "from sklearn.svm import SVC\n",
    "from sklearn.preprocessing import StandardScaler, MinMaxScaler\n",
    "from sklearn.pipeline import Pipeline\n",
    "from sklearn.linear_model import LogisticRegression, LinearRegressioin\n",
    "from sklearn.ensemble import StackingClassifier, RandomForestClassifier\n",
    "from sklearn.tree import DecisionTreeClassifier"
   ]
  },
  {
   "cell_type": "code",
   "execution_count": 5,
   "id": "6171b35f-64cd-4b95-b492-a4fce929fafd",
   "metadata": {},
   "outputs": [],
   "source": [
    "df = pd.read_csv(\"C:/Users/Administrator.DAI-PC2/Desktop/ML/Day 5/Kyphosis.csv\")\n",
    "le = LabelEncoder()\n",
    "y = le.fit_transform(df[\"Kyphosis\"])\n",
    "X = df.drop(\"Kyphosis\", axis = 1)"
   ]
  },
  {
   "cell_type": "code",
   "execution_count": 11,
   "id": "65413ce7-bb30-41d3-bda3-4d551786e9f3",
   "metadata": {},
   "outputs": [
    {
     "name": "stdout",
     "output_type": "stream",
     "text": [
      "0.72\n",
      "2.001191391953967\n"
     ]
    }
   ],
   "source": [
    "X_train, X_test, y_train, y_test = train_test_split(X, y, test_size = 0.3, random_state=24, stratify=y)\n",
    "\n",
    "lr = LogisticRegression()\n",
    "svm = SVC(kernel='linear', probability=True, random_state =24)\n",
    "dtc = DecisionTreeClassifier(random_state = 24)\n",
    "rf = RandomForestClassifier(random_state = 24)\n",
    "stack = StackingClassifier([b , final_estimator=rf)\n",
    "\n",
    "kfold = StratifiedKFold(n_splits = 5, shuffle = True, random_state=24)\n",
    "\n",
    "stack.fit(X_train, y_train)\n",
    "\n",
    "y_pred = stack.predict(X_test)\n",
    "print(accuracy_score(y_test, y_pred))\n",
    "\n",
    "y_pred_prob = stack.predict_proba(X_test)\n",
    "print(log_loss(y_test, y_pred_prob))"
   ]
  },
  {
   "cell_type": "code",
   "execution_count": 12,
   "id": "92067b9a-fea5-4d33-9ab9-e32eedff4ac3",
   "metadata": {},
   "outputs": [
    {
     "name": "stdout",
     "output_type": "stream",
     "text": [
      "0.76\n",
      "1.8078240247569928\n"
     ]
    }
   ],
   "source": [
    "#passthrough=true\n",
    "stack = StackingClassifier([('LR',lr), ('SVM', svm), ('TREE', dtc)], final_estimator=rf, passthrough=True)\n",
    "\n",
    "stack.fit(X_train, y_train)\n",
    "\n",
    "y_pred = stack.predict(X_test)\n",
    "print(accuracy_score(y_test, y_pred))\n",
    "\n",
    "y_pred_prob = stack.predict_proba(X_test)\n",
    "print(log_loss(y_test, y_pred_prob))"
   ]
  },
  {
   "cell_type": "code",
   "execution_count": 13,
   "id": "ab8479c7-495e-4ba6-9a32-9ab2852ec2ea",
   "metadata": {
    "scrolled": true
   },
   "outputs": [
    {
     "data": {
      "text/plain": [
       "{'cv': None,\n",
       " 'estimators': [('LR', LogisticRegression()),\n",
       "  ('SVM', SVC(kernel='linear', probability=True, random_state=24)),\n",
       "  ('TREE', DecisionTreeClassifier(random_state=24))],\n",
       " 'final_estimator__bootstrap': True,\n",
       " 'final_estimator__ccp_alpha': 0.0,\n",
       " 'final_estimator__class_weight': None,\n",
       " 'final_estimator__criterion': 'gini',\n",
       " 'final_estimator__max_depth': None,\n",
       " 'final_estimator__max_features': 'sqrt',\n",
       " 'final_estimator__max_leaf_nodes': None,\n",
       " 'final_estimator__max_samples': None,\n",
       " 'final_estimator__min_impurity_decrease': 0.0,\n",
       " 'final_estimator__min_samples_leaf': 1,\n",
       " 'final_estimator__min_samples_split': 2,\n",
       " 'final_estimator__min_weight_fraction_leaf': 0.0,\n",
       " 'final_estimator__monotonic_cst': None,\n",
       " 'final_estimator__n_estimators': 100,\n",
       " 'final_estimator__n_jobs': None,\n",
       " 'final_estimator__oob_score': False,\n",
       " 'final_estimator__random_state': 24,\n",
       " 'final_estimator__verbose': 0,\n",
       " 'final_estimator__warm_start': False,\n",
       " 'final_estimator': RandomForestClassifier(random_state=24),\n",
       " 'n_jobs': None,\n",
       " 'passthrough': True,\n",
       " 'stack_method': 'auto',\n",
       " 'verbose': 0,\n",
       " 'LR': LogisticRegression(),\n",
       " 'SVM': SVC(kernel='linear', probability=True, random_state=24),\n",
       " 'TREE': DecisionTreeClassifier(random_state=24),\n",
       " 'LR__C': 1.0,\n",
       " 'LR__class_weight': None,\n",
       " 'LR__dual': False,\n",
       " 'LR__fit_intercept': True,\n",
       " 'LR__intercept_scaling': 1,\n",
       " 'LR__l1_ratio': None,\n",
       " 'LR__max_iter': 100,\n",
       " 'LR__multi_class': 'auto',\n",
       " 'LR__n_jobs': None,\n",
       " 'LR__penalty': 'l2',\n",
       " 'LR__random_state': None,\n",
       " 'LR__solver': 'lbfgs',\n",
       " 'LR__tol': 0.0001,\n",
       " 'LR__verbose': 0,\n",
       " 'LR__warm_start': False,\n",
       " 'SVM__C': 1.0,\n",
       " 'SVM__break_ties': False,\n",
       " 'SVM__cache_size': 200,\n",
       " 'SVM__class_weight': None,\n",
       " 'SVM__coef0': 0.0,\n",
       " 'SVM__decision_function_shape': 'ovr',\n",
       " 'SVM__degree': 3,\n",
       " 'SVM__gamma': 'scale',\n",
       " 'SVM__kernel': 'linear',\n",
       " 'SVM__max_iter': -1,\n",
       " 'SVM__probability': True,\n",
       " 'SVM__random_state': 24,\n",
       " 'SVM__shrinking': True,\n",
       " 'SVM__tol': 0.001,\n",
       " 'SVM__verbose': False,\n",
       " 'TREE__ccp_alpha': 0.0,\n",
       " 'TREE__class_weight': None,\n",
       " 'TREE__criterion': 'gini',\n",
       " 'TREE__max_depth': None,\n",
       " 'TREE__max_features': None,\n",
       " 'TREE__max_leaf_nodes': None,\n",
       " 'TREE__min_impurity_decrease': 0.0,\n",
       " 'TREE__min_samples_leaf': 1,\n",
       " 'TREE__min_samples_split': 2,\n",
       " 'TREE__min_weight_fraction_leaf': 0.0,\n",
       " 'TREE__monotonic_cst': None,\n",
       " 'TREE__random_state': 24,\n",
       " 'TREE__splitter': 'best'}"
      ]
     },
     "execution_count": 13,
     "metadata": {},
     "output_type": "execute_result"
    }
   ],
   "source": [
    "stack.get_params()"
   ]
  },
  {
   "cell_type": "code",
   "execution_count": 15,
   "id": "7b85a32e-fce2-43b5-afe5-a31631e87508",
   "metadata": {},
   "outputs": [
    {
     "name": "stdout",
     "output_type": "stream",
     "text": [
      "-0.41213495226387675\n",
      "{'LR__C': 1.5050000000000001, 'SVM__C': 0.7575000000000001, 'TREE__max_depth': 4, 'final_estimator__max_features': 3, 'passthrough': True}\n"
     ]
    }
   ],
   "source": [
    "params ={'SVM__C':np.linspace(0.01, 3, 5), 'LR__C':np.linspace(0.01, 3, 5), 'TREE__max_depth':[None, 2,3,4],\n",
    "         'final_estimator__max_features': [2,3], 'passthrough':[False,True]}\n",
    "gcv = GridSearchCV(stack, param_grid = params, cv = kfold, scoring = 'neg_log_loss', n_jobs = -1)\n",
    "gcv.fit(X, y)\n",
    "print(gcv.best_score_)\n",
    "print(gcv.best_params_)"
   ]
  }
 ],
 "metadata": {
  "kernelspec": {
   "display_name": "Python 3 (ipykernel)",
   "language": "python",
   "name": "python3"
  },
  "language_info": {
   "codemirror_mode": {
    "name": "ipython",
    "version": 3
   },
   "file_extension": ".py",
   "mimetype": "text/x-python",
   "name": "python",
   "nbconvert_exporter": "python",
   "pygments_lexer": "ipython3",
   "version": "3.11.7"
  }
 },
 "nbformat": 4,
 "nbformat_minor": 5
}

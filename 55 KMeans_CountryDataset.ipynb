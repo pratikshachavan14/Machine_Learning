{
 "cells": [
  {
   "cell_type": "code",
   "execution_count": 1,
   "id": "a3d849fc-e373-49a3-824d-d07638af1cc9",
   "metadata": {},
   "outputs": [],
   "source": [
    "from scipy.cluster.hierarchy import linkage, dendrogram\n",
    "import matplotlib.pyplot as plt\n",
    "import pandas as pd\n",
    "import numpy as np\n",
    "from sklearn.preprocessing import StandardScaler\n",
    "import seaborn as sns\n",
    "from sklearn.cluster import AgglomerativeClustering, KMeans\n",
    "from sklearn.metrics import silhouette_score\n",
    "from sklearn.decomposition import PCA"
   ]
  },
  {
   "cell_type": "code",
   "execution_count": 2,
   "id": "ac76d188-0c59-4acd-b876-cee915bba779",
   "metadata": {},
   "outputs": [
    {
     "data": {
      "text/html": [
       "<div>\n",
       "<style scoped>\n",
       "    .dataframe tbody tr th:only-of-type {\n",
       "        vertical-align: middle;\n",
       "    }\n",
       "\n",
       "    .dataframe tbody tr th {\n",
       "        vertical-align: top;\n",
       "    }\n",
       "\n",
       "    .dataframe thead th {\n",
       "        text-align: right;\n",
       "    }\n",
       "</style>\n",
       "<table border=\"1\" class=\"dataframe\">\n",
       "  <thead>\n",
       "    <tr style=\"text-align: right;\">\n",
       "      <th></th>\n",
       "      <th>child_mort</th>\n",
       "      <th>exports</th>\n",
       "      <th>health</th>\n",
       "      <th>imports</th>\n",
       "      <th>income</th>\n",
       "      <th>inflation</th>\n",
       "      <th>life_expec</th>\n",
       "      <th>total_fer</th>\n",
       "      <th>gdpp</th>\n",
       "    </tr>\n",
       "    <tr>\n",
       "      <th>country</th>\n",
       "      <th></th>\n",
       "      <th></th>\n",
       "      <th></th>\n",
       "      <th></th>\n",
       "      <th></th>\n",
       "      <th></th>\n",
       "      <th></th>\n",
       "      <th></th>\n",
       "      <th></th>\n",
       "    </tr>\n",
       "  </thead>\n",
       "  <tbody>\n",
       "    <tr>\n",
       "      <th>Afghanistan</th>\n",
       "      <td>90.2</td>\n",
       "      <td>10.0</td>\n",
       "      <td>7.58</td>\n",
       "      <td>44.9</td>\n",
       "      <td>1610</td>\n",
       "      <td>9.44</td>\n",
       "      <td>56.2</td>\n",
       "      <td>5.82</td>\n",
       "      <td>553</td>\n",
       "    </tr>\n",
       "    <tr>\n",
       "      <th>Albania</th>\n",
       "      <td>16.6</td>\n",
       "      <td>28.0</td>\n",
       "      <td>6.55</td>\n",
       "      <td>48.6</td>\n",
       "      <td>9930</td>\n",
       "      <td>4.49</td>\n",
       "      <td>76.3</td>\n",
       "      <td>1.65</td>\n",
       "      <td>4090</td>\n",
       "    </tr>\n",
       "    <tr>\n",
       "      <th>Algeria</th>\n",
       "      <td>27.3</td>\n",
       "      <td>38.4</td>\n",
       "      <td>4.17</td>\n",
       "      <td>31.4</td>\n",
       "      <td>12900</td>\n",
       "      <td>16.10</td>\n",
       "      <td>76.5</td>\n",
       "      <td>2.89</td>\n",
       "      <td>4460</td>\n",
       "    </tr>\n",
       "    <tr>\n",
       "      <th>Angola</th>\n",
       "      <td>119.0</td>\n",
       "      <td>62.3</td>\n",
       "      <td>2.85</td>\n",
       "      <td>42.9</td>\n",
       "      <td>5900</td>\n",
       "      <td>22.40</td>\n",
       "      <td>60.1</td>\n",
       "      <td>6.16</td>\n",
       "      <td>3530</td>\n",
       "    </tr>\n",
       "    <tr>\n",
       "      <th>Antigua and Barbuda</th>\n",
       "      <td>10.3</td>\n",
       "      <td>45.5</td>\n",
       "      <td>6.03</td>\n",
       "      <td>58.9</td>\n",
       "      <td>19100</td>\n",
       "      <td>1.44</td>\n",
       "      <td>76.8</td>\n",
       "      <td>2.13</td>\n",
       "      <td>12200</td>\n",
       "    </tr>\n",
       "  </tbody>\n",
       "</table>\n",
       "</div>"
      ],
      "text/plain": [
       "                     child_mort  exports  health  imports  income  inflation  \\\n",
       "country                                                                        \n",
       "Afghanistan                90.2     10.0    7.58     44.9    1610       9.44   \n",
       "Albania                    16.6     28.0    6.55     48.6    9930       4.49   \n",
       "Algeria                    27.3     38.4    4.17     31.4   12900      16.10   \n",
       "Angola                    119.0     62.3    2.85     42.9    5900      22.40   \n",
       "Antigua and Barbuda        10.3     45.5    6.03     58.9   19100       1.44   \n",
       "\n",
       "                     life_expec  total_fer   gdpp  \n",
       "country                                            \n",
       "Afghanistan                56.2       5.82    553  \n",
       "Albania                    76.3       1.65   4090  \n",
       "Algeria                    76.5       2.89   4460  \n",
       "Angola                     60.1       6.16   3530  \n",
       "Antigua and Barbuda        76.8       2.13  12200  "
      ]
     },
     "execution_count": 2,
     "metadata": {},
     "output_type": "execute_result"
    }
   ],
   "source": [
    "df = pd.read_csv(r\"C:\\Users\\Administrator.DAI-PC2\\Desktop\\ML\\Day11\\Country-data.csv\", index_col=0)\n",
    "df.head()"
   ]
  },
  {
   "cell_type": "code",
   "execution_count": 3,
   "id": "9836a78c-3540-450d-a922-ae379ec8920f",
   "metadata": {},
   "outputs": [],
   "source": [
    "scaler = StandardScaler().set_output(transform='pandas')\n",
    "df_scaled = scaler.fit_transform(df)"
   ]
  },
  {
   "cell_type": "code",
   "execution_count": 8,
   "id": "bf972de1-a716-413f-a73c-b19a6414c7ef",
   "metadata": {},
   "outputs": [
    {
     "name": "stderr",
     "output_type": "stream",
     "text": [
      "C:\\Users\\Administrator.DAI-PC2\\AppData\\Roaming\\Python\\Python311\\site-packages\\sklearn\\cluster\\_kmeans.py:1446: UserWarning: KMeans is known to have a memory leak on Windows with MKL, when there are less chunks than available threads. You can avoid it by setting the environment variable OMP_NUM_THREADS=1.\n",
      "  warnings.warn(\n",
      "C:\\Users\\Administrator.DAI-PC2\\AppData\\Roaming\\Python\\Python311\\site-packages\\sklearn\\cluster\\_kmeans.py:1446: UserWarning: KMeans is known to have a memory leak on Windows with MKL, when there are less chunks than available threads. You can avoid it by setting the environment variable OMP_NUM_THREADS=1.\n",
      "  warnings.warn(\n",
      "C:\\Users\\Administrator.DAI-PC2\\AppData\\Roaming\\Python\\Python311\\site-packages\\sklearn\\cluster\\_kmeans.py:1446: UserWarning: KMeans is known to have a memory leak on Windows with MKL, when there are less chunks than available threads. You can avoid it by setting the environment variable OMP_NUM_THREADS=1.\n",
      "  warnings.warn(\n",
      "C:\\Users\\Administrator.DAI-PC2\\AppData\\Roaming\\Python\\Python311\\site-packages\\sklearn\\cluster\\_kmeans.py:1446: UserWarning: KMeans is known to have a memory leak on Windows with MKL, when there are less chunks than available threads. You can avoid it by setting the environment variable OMP_NUM_THREADS=1.\n",
      "  warnings.warn(\n",
      "C:\\Users\\Administrator.DAI-PC2\\AppData\\Roaming\\Python\\Python311\\site-packages\\sklearn\\cluster\\_kmeans.py:1446: UserWarning: KMeans is known to have a memory leak on Windows with MKL, when there are less chunks than available threads. You can avoid it by setting the environment variable OMP_NUM_THREADS=1.\n",
      "  warnings.warn(\n",
      "C:\\Users\\Administrator.DAI-PC2\\AppData\\Roaming\\Python\\Python311\\site-packages\\sklearn\\cluster\\_kmeans.py:1446: UserWarning: KMeans is known to have a memory leak on Windows with MKL, when there are less chunks than available threads. You can avoid it by setting the environment variable OMP_NUM_THREADS=1.\n",
      "  warnings.warn(\n",
      "C:\\Users\\Administrator.DAI-PC2\\AppData\\Roaming\\Python\\Python311\\site-packages\\sklearn\\cluster\\_kmeans.py:1446: UserWarning: KMeans is known to have a memory leak on Windows with MKL, when there are less chunks than available threads. You can avoid it by setting the environment variable OMP_NUM_THREADS=1.\n",
      "  warnings.warn(\n",
      "C:\\Users\\Administrator.DAI-PC2\\AppData\\Roaming\\Python\\Python311\\site-packages\\sklearn\\cluster\\_kmeans.py:1446: UserWarning: KMeans is known to have a memory leak on Windows with MKL, when there are less chunks than available threads. You can avoid it by setting the environment variable OMP_NUM_THREADS=1.\n",
      "  warnings.warn(\n",
      "C:\\Users\\Administrator.DAI-PC2\\AppData\\Roaming\\Python\\Python311\\site-packages\\sklearn\\cluster\\_kmeans.py:1446: UserWarning: KMeans is known to have a memory leak on Windows with MKL, when there are less chunks than available threads. You can avoid it by setting the environment variable OMP_NUM_THREADS=1.\n",
      "  warnings.warn(\n"
     ]
    },
    {
     "name": "stdout",
     "output_type": "stream",
     "text": [
      "Best no. of clusters: 5\n",
      "Best Score: 0.3064507657886972\n"
     ]
    }
   ],
   "source": [
    "#using Kmeans\n",
    "Ks = [2,3,4,5, 6, 7, 8, 9, 10]\n",
    "scores = []\n",
    "for i in Ks:\n",
    "    clust = KMeans(n_clusters=i, random_state=24, init='random')\n",
    "    clust.fit(df_scaled)\n",
    "    scores.append(silhouette_score(df_scaled, clust.labels_))\n",
    "\n",
    "i_max = np.argmax(scores)\n",
    "print(\"Best no. of clusters:\", Ks[i_max])\n",
    "print(\"Best Score:\", scores[i_max])"
   ]
  },
  {
   "cell_type": "code",
   "execution_count": 9,
   "id": "17304204-5443-4600-a1af-4947f536094f",
   "metadata": {},
   "outputs": [
    {
     "name": "stderr",
     "output_type": "stream",
     "text": [
      "C:\\Users\\Administrator.DAI-PC2\\AppData\\Roaming\\Python\\Python311\\site-packages\\sklearn\\cluster\\_kmeans.py:1446: UserWarning: KMeans is known to have a memory leak on Windows with MKL, when there are less chunks than available threads. You can avoid it by setting the environment variable OMP_NUM_THREADS=1.\n",
      "  warnings.warn(\n"
     ]
    },
    {
     "data": {
      "text/html": [
       "<div>\n",
       "<style scoped>\n",
       "    .dataframe tbody tr th:only-of-type {\n",
       "        vertical-align: middle;\n",
       "    }\n",
       "\n",
       "    .dataframe tbody tr th {\n",
       "        vertical-align: top;\n",
       "    }\n",
       "\n",
       "    .dataframe thead th {\n",
       "        text-align: right;\n",
       "    }\n",
       "</style>\n",
       "<table border=\"1\" class=\"dataframe\">\n",
       "  <thead>\n",
       "    <tr style=\"text-align: right;\">\n",
       "      <th></th>\n",
       "      <th>child_mort</th>\n",
       "      <th>exports</th>\n",
       "      <th>health</th>\n",
       "      <th>imports</th>\n",
       "      <th>income</th>\n",
       "      <th>inflation</th>\n",
       "      <th>life_expec</th>\n",
       "      <th>total_fer</th>\n",
       "      <th>gdpp</th>\n",
       "    </tr>\n",
       "    <tr>\n",
       "      <th>Clust</th>\n",
       "      <th></th>\n",
       "      <th></th>\n",
       "      <th></th>\n",
       "      <th></th>\n",
       "      <th></th>\n",
       "      <th></th>\n",
       "      <th></th>\n",
       "      <th></th>\n",
       "      <th></th>\n",
       "    </tr>\n",
       "  </thead>\n",
       "  <tbody>\n",
       "    <tr>\n",
       "      <th>0</th>\n",
       "      <td>26.917778</td>\n",
       "      <td>30.977533</td>\n",
       "      <td>5.389333</td>\n",
       "      <td>33.803687</td>\n",
       "      <td>12301.333333</td>\n",
       "      <td>10.857689</td>\n",
       "      <td>72.206667</td>\n",
       "      <td>2.566222</td>\n",
       "      <td>6009.244444</td>\n",
       "    </tr>\n",
       "    <tr>\n",
       "      <th>1</th>\n",
       "      <td>94.180435</td>\n",
       "      <td>28.928478</td>\n",
       "      <td>6.344565</td>\n",
       "      <td>42.502174</td>\n",
       "      <td>3752.021739</td>\n",
       "      <td>11.920109</td>\n",
       "      <td>59.013043</td>\n",
       "      <td>5.017826</td>\n",
       "      <td>1866.347826</td>\n",
       "    </tr>\n",
       "    <tr>\n",
       "      <th>2</th>\n",
       "      <td>15.160870</td>\n",
       "      <td>52.208696</td>\n",
       "      <td>7.189565</td>\n",
       "      <td>62.150000</td>\n",
       "      <td>14791.521739</td>\n",
       "      <td>3.851261</td>\n",
       "      <td>73.973913</td>\n",
       "      <td>2.005000</td>\n",
       "      <td>8964.043478</td>\n",
       "    </tr>\n",
       "    <tr>\n",
       "      <th>3</th>\n",
       "      <td>4.300000</td>\n",
       "      <td>37.900000</td>\n",
       "      <td>10.573636</td>\n",
       "      <td>36.054545</td>\n",
       "      <td>40018.181818</td>\n",
       "      <td>1.541955</td>\n",
       "      <td>80.913636</td>\n",
       "      <td>1.800000</td>\n",
       "      <td>45268.181818</td>\n",
       "    </tr>\n",
       "    <tr>\n",
       "      <th>4</th>\n",
       "      <td>6.937500</td>\n",
       "      <td>113.137500</td>\n",
       "      <td>5.063750</td>\n",
       "      <td>87.787500</td>\n",
       "      <td>72025.000000</td>\n",
       "      <td>6.445500</td>\n",
       "      <td>79.500000</td>\n",
       "      <td>1.772500</td>\n",
       "      <td>50062.500000</td>\n",
       "    </tr>\n",
       "  </tbody>\n",
       "</table>\n",
       "</div>"
      ],
      "text/plain": [
       "       child_mort     exports     health    imports        income  inflation  \\\n",
       "Clust                                                                          \n",
       "0       26.917778   30.977533   5.389333  33.803687  12301.333333  10.857689   \n",
       "1       94.180435   28.928478   6.344565  42.502174   3752.021739  11.920109   \n",
       "2       15.160870   52.208696   7.189565  62.150000  14791.521739   3.851261   \n",
       "3        4.300000   37.900000  10.573636  36.054545  40018.181818   1.541955   \n",
       "4        6.937500  113.137500   5.063750  87.787500  72025.000000   6.445500   \n",
       "\n",
       "       life_expec  total_fer          gdpp  \n",
       "Clust                                       \n",
       "0       72.206667   2.566222   6009.244444  \n",
       "1       59.013043   5.017826   1866.347826  \n",
       "2       73.973913   2.005000   8964.043478  \n",
       "3       80.913636   1.800000  45268.181818  \n",
       "4       79.500000   1.772500  50062.500000  "
      ]
     },
     "execution_count": 9,
     "metadata": {},
     "output_type": "execute_result"
    }
   ],
   "source": [
    "clust = KMeans(n_clusters=Ks[i_max], random_state=24)\n",
    "clust.fit(df_scaled)\n",
    "clust_data=df.copy()\n",
    "clust_data['Clust'] = clust.labels_\n",
    "clust_data.groupby('Clust').mean()"
   ]
  },
  {
   "cell_type": "code",
   "execution_count": 10,
   "id": "ed6c7965-9439-4eab-96a7-a7bd968209ef",
   "metadata": {},
   "outputs": [],
   "source": [
    "clust_country = clust_data.groupby('Clust').mean()\n",
    "#clust_country.to_csv(\"Clust_country.csv\")"
   ]
  },
  {
   "cell_type": "code",
   "execution_count": 12,
   "id": "31460aa3-8630-446a-b268-304568b6ed18",
   "metadata": {},
   "outputs": [
    {
     "data": {
      "image/png": "[encoded data removed]",
      "text/plain": [
       "<Figure size 1500x300 with 5 Axes>"
      ]
     },
     "metadata": {},
     "output_type": "display_data"
    }
   ],
   "source": [
    "g = sns.FacetGrid(clust_data, col =\"Clust\")\n",
    "g.map(plt.hist, \"child_mort\");"
   ]
  },
  {
   "cell_type": "code",
   "execution_count": 13,
   "id": "25aa7811-1997-4541-b328-33c9e3dbe81e",
   "metadata": {},
   "outputs": [
    {
     "data": {
      "image/png": "[encoded data removed]",
      "text/plain": [
       "<Figure size 1500x300 with 5 Axes>"
      ]
     },
     "metadata": {},
     "output_type": "display_data"
    }
   ],
   "source": [
    "g = sns.FacetGrid(clust_data, col =\"Clust\")\n",
    "g.map(plt.hist, \"health\");"
   ]
  },
  {
   "cell_type": "code",
   "execution_count": 15,
   "id": "1117b2ed-71c7-4c07-a654-4548b82ce5d6",
   "metadata": {},
   "outputs": [
    {
     "name": "stderr",
     "output_type": "stream",
     "text": [
      "C:\\ProgramData\\anaconda3\\Lib\\site-packages\\seaborn\\axisgrid.py:712: UserWarning: Using the boxplot function without specifying `order` is likely to produce an incorrect plot.\n",
      "  warnings.warn(warning)\n"
     ]
    },
    {
     "data": {
      "image/png": "[encoded data removed]",
      "text/plain": [
       "<Figure size 1500x300 with 5 Axes>"
      ]
     },
     "metadata": {},
     "output_type": "display_data"
    }
   ],
   "source": [
    "g = sns.FacetGrid(clust_data, col =\"Clust\")\n",
    "g.map(sns.boxplot, \"health\");"
   ]
  },
  {
   "cell_type": "code",
   "execution_count": 23,
   "id": "e98eda9a-8d41-4c11-9ae1-f507ab736889",
   "metadata": {},
   "outputs": [
    {
     "data": {
      "image/png": "[encoded data removed]",
      "text/plain": [
       "<Figure size 1500x300 with 5 Axes>"
      ]
     },
     "metadata": {},
     "output_type": "display_data"
    }
   ],
   "source": [
    "g = sns.FacetGrid(clust_data, col =\"Clust\")\n",
    "g.map(plt.scatter, \"health\", \"imports\" );"
   ]
  }
 ],
 "metadata": {
  "kernelspec": {
   "display_name": "Python 3 (ipykernel)",
   "language": "python",
   "name": "python3"
  },
  "language_info": {
   "codemirror_mode": {
    "name": "ipython",
    "version": 3
   },
   "file_extension": ".py",
   "mimetype": "text/x-python",
   "name": "python",
   "nbconvert_exporter": "python",
   "pygments_lexer": "ipython3",
   "version": "3.11.7"
  }
 },
 "nbformat": 4,
 "nbformat_minor": 5
}

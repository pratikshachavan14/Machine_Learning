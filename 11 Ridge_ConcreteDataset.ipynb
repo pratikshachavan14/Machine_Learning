{
 "cells": [
  {
   "cell_type": "code",
   "execution_count": 1,
   "id": "3b8842e5-9cc4-4ba9-adcc-206bbe81fca4",
   "metadata": {},
   "outputs": [],
   "source": [
    "import pandas as pd\n",
    "import numpy as np\n",
    "\n",
    "from sklearn.model_selection import train_test_split\n",
    "from sklearn.linear_model import LinearRegression\n",
    "from sklearn.linear_model import Ridge\n",
    "from sklearn.metrics import r2_score\n",
    "from sklearn.model_selection import cross_val_score\n",
    "from sklearn.model_selection import KFold"
   ]
  },
  {
   "cell_type": "code",
   "execution_count": 2,
   "id": "f870b0f6-9ce4-4161-ba92-7b8f6afe208d",
   "metadata": {},
   "outputs": [],
   "source": [
    "df = pd.read_csv(\"C:/Users/Administrator.DAI-PC2/Desktop/ML/Day2/Concrete_Data.csv\")\n",
    "y = df[\"Strength\"]\n",
    "\n",
    "X = df.drop(\"Strength\", axis = 1)\n",
    "\n",
    "X_train, X_test, y_train, y_test = train_test_split(X, y, test_size = 0.3,random_state=24)"
   ]
  },
  {
   "cell_type": "code",
   "execution_count": 3,
   "id": "1572f5f0-7926-477b-8d2f-f37e80f77465",
   "metadata": {},
   "outputs": [
    {
     "name": "stdout",
     "output_type": "stream",
     "text": [
      "0.5771749099675626\n"
     ]
    }
   ],
   "source": [
    "r = Ridge()\n",
    "r.fit(X_train, y_train)\n",
    "y_pred = r.predict(X_test)\n",
    "\n",
    "print(r2_score(y_test, y_pred))"
   ]
  },
  {
   "cell_type": "code",
   "execution_count": 4,
   "id": "04c8acf9-f1a5-468d-873f-384d1979df2a",
   "metadata": {},
   "outputs": [
    {
     "name": "stdout",
     "output_type": "stream",
     "text": [
      "Best alpha :  43.59030769230769\n"
     ]
    }
   ],
   "source": [
    "kfold = KFold(n_splits = 5, shuffle = True, random_state = 24)\n",
    "lambdas = np.linspace(0.001, 100, 40)\n",
    "scores = []\n",
    "for i in lambdas : \n",
    "    r = Ridge(alpha = i)\n",
    "    result = cross_val_score(r, X, y, cv = kfold)\n",
    "    scores.append(result.mean())\n",
    "\n",
    "i_max = np.argmax(scores)\n",
    "print(\"Best alpha : \", lambdas[i_max])"
   ]
  },
  {
   "cell_type": "code",
   "execution_count": 6,
   "id": "653ca9a2-a384-463c-936c-94fb0faf24db",
   "metadata": {},
   "outputs": [
    {
     "name": "stdout",
     "output_type": "stream",
     "text": [
      "{'alpha': 43.59030769230769}\n",
      "0.6066066097409973\n"
     ]
    }
   ],
   "source": [
    "\n",
    "from sklearn.model_selection import GridSearchCV\n",
    "params = {'alpha':np.linspace(0.001, 100,40)}\n",
    "gcv = GridSearchCV(r, param_grid=params,\n",
    "                   cv=kfold)\n",
    "gcv.fit(X, y)\n",
    "print(gcv.best_params_)\n",
    "print(gcv.best_score_)"
   ]
  }
 ],
 "metadata": {
  "kernelspec": {
   "display_name": "Python 3 (ipykernel)",
   "language": "python",
   "name": "python3"
  },
  "language_info": {
   "codemirror_mode": {
    "name": "ipython",
    "version": 3
   },
   "file_extension": ".py",
   "mimetype": "text/x-python",
   "name": "python",
   "nbconvert_exporter": "python",
   "pygments_lexer": "ipython3",
   "version": "3.11.7"
  }
 },
 "nbformat": 4,
 "nbformat_minor": 5
}

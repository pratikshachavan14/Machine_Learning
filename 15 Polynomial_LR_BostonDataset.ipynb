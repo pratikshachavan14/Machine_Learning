{
 "cells": [
  {
   "cell_type": "code",
   "execution_count": 14,
   "id": "3c91479c-ad4c-48cf-af96-a9c677f9ffd2",
   "metadata": {},
   "outputs": [],
   "source": [
    "import pandas as pd\n",
    "import numpy as np\n",
    "from sklearn.linear_model import LinearRegression\n",
    "from sklearn.preprocessing import PolynomialFeatures\n",
    "from sklearn.model_selection import train_test_split\n",
    "from sklearn.model_selection import cross_val_score\n",
    "from sklearn.metrics import r2_score"
   ]
  },
  {
   "cell_type": "code",
   "execution_count": 30,
   "id": "aea9d87b-d99b-4f1b-991c-bfb83f222a30",
   "metadata": {},
   "outputs": [],
   "source": [
    "df = pd.read_csv(\"C:/Users/Administrator.DAI-PC2/Desktop/ML/Day 4/Boston.csv\")\n",
    "\n",
    "y = df['medv']\n",
    "X = df.drop('medv', axis = 1)"
   ]
  },
  {
   "cell_type": "code",
   "execution_count": 31,
   "id": "7b991a79-3cd5-4105-9d15-71c7b9dd46ad",
   "metadata": {},
   "outputs": [
    {
     "name": "stdout",
     "output_type": "stream",
     "text": [
      "0.7133431144123452\n",
      "(506, 14)\n"
     ]
    }
   ],
   "source": [
    "poly = PolynomialFeatures(degree =1).set_output(transform = 'pandas')\n",
    "X_poly = poly.fit_transform(X)\n",
    "\n",
    "X_train, X_test, y_train, y_test = train_test_split(X_poly, y, test_size = 0.3, random_state=24)\n",
    "\n",
    "lr = LinearRegression()\n",
    "lr.fit(X_train, y_train)\n",
    "\n",
    "y_pred = lr.predict(X_test)\n",
    "\n",
    "print(r2_score(y_test, y_pred))\n",
    "print(X_poly.shape)"
   ]
  },
  {
   "cell_type": "code",
   "execution_count": 32,
   "id": "b25e2a10-74b5-4b33-80bb-14f43956d4c9",
   "metadata": {},
   "outputs": [
    {
     "name": "stdout",
     "output_type": "stream",
     "text": [
      "0.6881556665082953\n",
      "(506, 105)\n"
     ]
    }
   ],
   "source": [
    "poly = PolynomialFeatures(degree = 2).set_output(transform = 'pandas')\n",
    "X_poly2 = poly.fit_transform(X)\n",
    "\n",
    "X_train, X_test, y_train, y_test = train_test_split(X_poly2, y, test_size = 0.3, random_state=24)\n",
    "\n",
    "lr = LinearRegression()\n",
    "lr.fit(X_train, y_train)\n",
    "\n",
    "y_pred = lr.predict(X_test)\n",
    "\n",
    "print(r2_score(y_test, y_pred))\n",
    "print(X_poly2.shape)"
   ]
  },
  {
   "cell_type": "code",
   "execution_count": 33,
   "id": "c3c2456b-01b6-4339-a2a7-2bf593e156c2",
   "metadata": {},
   "outputs": [
    {
     "name": "stdout",
     "output_type": "stream",
     "text": [
      "-8442.445329194807\n",
      "(506, 560)\n"
     ]
    }
   ],
   "source": [
    "poly = PolynomialFeatures(degree = 3).set_output(transform = 'pandas')\n",
    "X_poly3 = poly.fit_transform(X)\n",
    "\n",
    "X_train, X_test, y_train, y_test = train_test_split(X_poly3, y, test_size = 0.3, random_state=24)\n",
    "\n",
    "lr = LinearRegression()\n",
    "lr.fit(X_train, y_train)\n",
    "\n",
    "y_pred = lr.predict(X_test)\n",
    "\n",
    "print(r2_score(y_test, y_pred))\n",
    "print(X_poly3.shape)"
   ]
  }
 ],
 "metadata": {
  "kernelspec": {
   "display_name": "Python 3 (ipykernel)",
   "language": "python",
   "name": "python3"
  },
  "language_info": {
   "codemirror_mode": {
    "name": "ipython",
    "version": 3
   },
   "file_extension": ".py",
   "mimetype": "text/x-python",
   "name": "python",
   "nbconvert_exporter": "python",
   "pygments_lexer": "ipython3",
   "version": "3.11.7"
  }
 },
 "nbformat": 4,
 "nbformat_minor": 5
}

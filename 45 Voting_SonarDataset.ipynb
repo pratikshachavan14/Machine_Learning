{
 "cells": [
  {
   "cell_type": "code",
   "execution_count": 1,
   "id": "8d01168f-4626-477a-b96c-f8e5962f0902",
   "metadata": {},
   "outputs": [],
   "source": [
    "import pandas as pd\n",
    "import numpy as np\n",
    "import matplotlib.pyplot as plt\n",
    "\n",
    "from sklearn.model_selection import train_test_split\n",
    "from sklearn.metrics import accuracy_score\n",
    "from sklearn.metrics import roc_curve, roc_auc_score\n",
    "from sklearn.preprocessing import LabelEncoder\n",
    "from sklearn.metrics import log_loss\n",
    "from sklearn.model_selection import StratifiedKFold, cross_val_score, KFold\n",
    "from sklearn.metrics import r2_score\n",
    "from sklearn.model_selection import GridSearchCV\n",
    "from sklearn.svm import SVC\n",
    "from sklearn.preprocessing import StandardScaler, MinMaxScaler\n",
    "from sklearn.pipeline import Pipeline\n",
    "from sklearn.linear_model import LogisticRegression\n",
    "from sklearn.discriminant_analysis import LinearDiscriminantAnalysis\n",
    "from sklearn.tree import plot_tree\n",
    "from sklearn.ensemble import VotingClassifier\n",
    "from sklearn.tree import DecisionTreeClassifier "
   ]
  },
  {
   "cell_type": "code",
   "execution_count": 2,
   "id": "bb946880-f6c2-40ba-8e22-5614f4f74cd4",
   "metadata": {},
   "outputs": [
    {
     "name": "stdout",
     "output_type": "stream",
     "text": [
      "['M' 'R']\n"
     ]
    }
   ],
   "source": [
    "df = pd.read_csv(\"C:/Users/Administrator.DAI-PC2/Desktop/ML/Day1/Sonar.csv\")\n",
    "le = LabelEncoder()\n",
    "y = le.fit_transform(df[\"Class\"])\n",
    "X = df.drop(\"Class\", axis = 1)\n",
    "print(le.classes_)"
   ]
  },
  {
   "cell_type": "code",
   "execution_count": 3,
   "id": "3fe6ae6f-cdf3-45f7-bccc-66f90e98ca3e",
   "metadata": {},
   "outputs": [],
   "source": [
    "#voting classifier \n",
    "#performance evaluation using classifier\n",
    "svc_l = SVC(kernel = 'linear', probability = True, random_state=24)\n",
    "std_scaler = StandardScaler()\n",
    "pipe_l = Pipeline([('SCL', std_scaler),('SVM', svc_l)])\n",
    "\n",
    "svc_r = SVC(kernel = 'rbf', probability = True, random_state=24)\n",
    "std_scaler = StandardScaler()\n",
    "pipe_r = Pipeline([('SCL', std_scaler),('SVM', svc_r)])\n",
    "\n",
    "lr = LogisticRegression()\n",
    "lda =LinearDiscriminantAnalysis()\n",
    "dtc = DecisionTreeClassifier(random_state=24)\n",
    "\n",
    "\n",
    "voting = VotingClassifier([('LR',lr), ('SVML', pipe_l),\n",
    "                          ('SVM_R', pipe_r), ('LDA', lda), ('DTC', dtc)], voting='soft')\n"
   ]
  },
  {
   "cell_type": "code",
   "execution_count": 4,
   "id": "215ebb72-ddd6-41ee-b841-56977febf983",
   "metadata": {},
   "outputs": [
    {
     "name": "stdout",
     "output_type": "stream",
     "text": [
      "0.8095238095238095\n"
     ]
    }
   ],
   "source": [
    "# fit to voting\n",
    "X_train, X_test, y_train, y_test = train_test_split(X, y, test_size = 0.3, random_state=24, stratify=y)\n",
    "\n",
    "voting.fit(X_train, y_train)\n",
    "y_pred = voting.predict(X_test)\n",
    "print(accuracy_score(y_test, y_pred))"
   ]
  },
  {
   "cell_type": "code",
   "execution_count": 6,
   "id": "5a326754-9ef8-4905-8b09-65667f17dda5",
   "metadata": {},
   "outputs": [
    {
     "name": "stdout",
     "output_type": "stream",
     "text": [
      "-0.466330230792261\n",
      "{'DTC__max_depth': None, 'LR__C': 3.0, 'SVML__SVM__C': 0.75075, 'SVM_R__SVM__C': 3.0, 'SVM_R__SVM__gamma': 0.001}\n"
     ]
    }
   ],
   "source": [
    "kfold = StratifiedKFold(n_splits = 5, shuffle = True, random_state=24)\n",
    "\n",
    "params = {'SVML__SVM__C': np.linspace(0.001,3,5), 'LR__C': np.linspace(0.001,3,5),\n",
    "          'SVM_R__SVM__C': np.linspace(0.001,3,5),'SVM_R__SVM__gamma': np.linspace(0.001,3,5) ,\n",
    "          'DTC__max_depth': [None, 2,3]}\n",
    "gcv = GridSearchCV(voting, param_grid = params, cv = kfold, scoring = 'neg_log_loss', n_jobs = -1)\n",
    "gcv.fit(X, y)\n",
    "print(gcv.best_score_)\n",
    "print(gcv.best_params_)\n"
   ]
  }
 ],
 "metadata": {
  "kernelspec": {
   "display_name": "Python 3 (ipykernel)",
   "language": "python",
   "name": "python3"
  },
  "language_info": {
   "codemirror_mode": {
    "name": "ipython",
    "version": 3
   },
   "file_extension": ".py",
   "mimetype": "text/x-python",
   "name": "python",
   "nbconvert_exporter": "python",
   "pygments_lexer": "ipython3",
   "version": "3.11.7"
  }
 },
 "nbformat": 4,
 "nbformat_minor": 5
}

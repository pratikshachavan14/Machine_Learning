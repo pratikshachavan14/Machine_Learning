{
 "cells": [
  {
   "cell_type": "code",
   "execution_count": 29,
   "id": "405c02f5-905f-479b-b8f0-bea8b0280548",
   "metadata": {},
   "outputs": [],
   "source": [
    "import pandas as pd\n",
    "import numpy as np\n",
    "import matplotlib.pyplot as plt\n",
    "\n",
    "from sklearn.model_selection import train_test_split\n",
    "from sklearn.metrics import confusion_matrix, classification_report\n",
    "from sklearn.neighbors import KNeighborsClassifier\n",
    "from sklearn.metrics import accuracy_score\n",
    "from sklearn.naive_bayes import GaussianNB\n",
    "from sklearn.metrics import roc_curve, roc_auc_score\n",
    "from sklearn.preprocessing import LabelEncoder\n",
    "from sklearn.linear_model import LogisticRegression\n",
    "from sklearn.metrics import log_loss\n",
    "from sklearn.model_selection import StratifiedKFold\n",
    "from sklearn.preprocessing import StandardScaler, MinMaxScaler\n",
    "from sklearn.pipeline import Pipeline\n",
    "from sklearn.model_selection import GridSearchCV"
   ]
  },
  {
   "cell_type": "code",
   "execution_count": 16,
   "id": "db6726c5-8383-4d60-ab2f-e4b627d07775",
   "metadata": {},
   "outputs": [],
   "source": [
    "df = pd.read_csv(\"C:/Users/Administrator.DAI-PC2/Desktop/ML/Day 5/Kyphosis.csv\")\n",
    "le = LabelEncoder()\n",
    "y = le.fit_transform(df[\"Kyphosis\"])\n",
    "X = df.drop(\"Kyphosis\", axis = 1)\n",
    "\n",
    "\n",
    "X_train, X_test, y_train, y_test = train_test_split(X, y, test_size = 0.3, random_state=24, stratify=y)\n",
    "\n",
    "kfold = StratifiedKFold(n_splits = 5, shuffle = True, random_state=24)"
   ]
  },
  {
   "cell_type": "code",
   "execution_count": 18,
   "id": "06cc1243-c5a5-498f-8bb9-3a0381fa0d00",
   "metadata": {},
   "outputs": [
    {
     "name": "stdout",
     "output_type": "stream",
     "text": [
      "0.76\n",
      "0.845\n",
      "1.7425616149199414\n"
     ]
    }
   ],
   "source": [
    "#minmax scaling\n",
    "std_mm = MinMaxScaler()\n",
    "X_scl_trn = std_mm.fit_transform(X_train)\n",
    "X_scl_tst = std_mm.transform(X_test)\n",
    "\n",
    "\n",
    "knn = KNeighborsClassifier(n_neighbors=3)\n",
    "\n",
    "knn.fit(X_scl_trn, y_train)\n",
    "\n",
    "y_pred = knn.predict(X_scl_tst)\n",
    "y_pred_prob = knn.predict_proba(X_scl_tst)\n",
    "\n",
    "print(accuracy_score(y_test, y_pred))\n",
    "print(roc_auc_score(y_test, y_pred_prob[:,1]))\n",
    "print(log_loss(y_test,y_pred_prob))"
   ]
  },
  {
   "cell_type": "code",
   "execution_count": 19,
   "id": "03b269a3-7c95-436e-8ef1-0a1374c5a623",
   "metadata": {},
   "outputs": [
    {
     "name": "stdout",
     "output_type": "stream",
     "text": [
      "0.8\n",
      "0.875\n",
      "0.3170340836795815\n"
     ]
    }
   ],
   "source": [
    "#Standard scaling\n",
    "std_scaler = StandardScaler()\n",
    "X_scl_trn = std_scaler.fit_transform(X_train)\n",
    "X_scl_tst = std_scaler.transform(X_test)\n",
    "\n",
    "knn = KNeighborsClassifier(n_neighbors=3)\n",
    "\n",
    "knn.fit(X_scl_trn, y_train)\n",
    "\n",
    "y_pred = knn.predict(X_scl_tst)\n",
    "y_pred_prob = knn.predict_proba(X_scl_tst)\n",
    "\n",
    "print(accuracy_score(y_test, y_pred))\n",
    "print(roc_auc_score(y_test, y_pred_prob[:,1]))\n",
    "print(log_loss(y_test,y_pred_prob))"
   ]
  },
  {
   "cell_type": "code",
   "execution_count": 25,
   "id": "871a0bfd-b95f-45cf-b4f4-2083693d0345",
   "metadata": {},
   "outputs": [
    {
     "name": "stdout",
     "output_type": "stream",
     "text": [
      "0.8\n",
      "0.875\n",
      "0.3170340836795815\n"
     ]
    }
   ],
   "source": [
    "#pipeline for standard\n",
    "pipe_std = Pipeline([('SCL', std_scaler), ('KNN',knn)])\n",
    "pipe_std.fit(X_train, y_train)\n",
    "\n",
    "y_pred = pipe_std.predict(X_test)\n",
    "y_pred_prob = pipe_std.predict_proba(X_test)\n",
    "\n",
    "print(accuracy_score(y_test, y_pred))\n",
    "print(roc_auc_score(y_test, y_pred_prob[:,1]))\n",
    "print(log_loss(y_test,y_pred_prob))"
   ]
  },
  {
   "cell_type": "code",
   "execution_count": 33,
   "id": "c81eb5f2-6c5b-47b5-bbdf-2ad78f15a2c6",
   "metadata": {},
   "outputs": [
    {
     "name": "stdout",
     "output_type": "stream",
     "text": [
      "0.76\n",
      "0.89\n",
      "0.35098190714145305\n"
     ]
    }
   ],
   "source": [
    "#minmax using pipeline\n",
    "pipe_mm = Pipeline([('Rishi', std_mm), ('KNN',knn)])\n",
    "pipe_mm.fit(X_train, y_train)\n",
    "\n",
    "y_pred = pipe_mm.predict(X_test)\n",
    "y_pred_prob = pipe_mm.predict_proba(X_test)\n",
    "\n",
    "print(accuracy_score(y_test, y_pred))\n",
    "print(roc_auc_score(y_test, y_pred_prob[:,1]))\n",
    "print(log_loss(y_test,y_pred_prob))"
   ]
  },
  {
   "cell_type": "code",
   "execution_count": 32,
   "id": "0f2d2cb8-3251-4a29-a93f-ad3dcc58a8cb",
   "metadata": {},
   "outputs": [
    {
     "name": "stdout",
     "output_type": "stream",
     "text": [
      "-0.3545562027841026\n",
      "{'KNN__n_neighbors': 10}\n"
     ]
    }
   ],
   "source": [
    "#standard scaling with pipeline and gcv\n",
    "kfold = StratifiedKFold(n_splits = 5, shuffle = True, random_state=24)\n",
    "std_scaler = StandardScaler()\n",
    "knn = KNeighborsClassifier()\n",
    "pipe_std = Pipeline([('SCL', std_scaler), ('KNN',knn)])\n",
    "params = {'KNN__n_neighbors': [1, 2, 3, 4, 5, 6, 7, 8, 9, 10]}\n",
    "gcv = GridSearchCV(pipe_std, param_grid = params, cv = kfold, scoring = 'neg_log_loss')\n",
    "gcv.fit(X, y)\n",
    "print(gcv.best_score_)\n",
    "print(gcv.best_params_)"
   ]
  },
  {
   "cell_type": "code",
   "execution_count": 35,
   "id": "ea279205-04a2-4571-92b4-2466bcd46669",
   "metadata": {},
   "outputs": [
    {
     "name": "stdout",
     "output_type": "stream",
     "text": [
      "-0.3541342613432673\n",
      "{'Rishi__n_neighbors': 9}\n"
     ]
    }
   ],
   "source": [
    "#minamx scaling with pipeline and gcv\n",
    "kfold = StratifiedKFold(n_splits = 5, shuffle = True, random_state=24)\n",
    "knn = KNeighborsClassifier()\n",
    "pipe_mm = Pipeline([('SCL', std_mm), ('Rishi',knn)])\n",
    "params = {'Rishi__n_neighbors': [1, 2, 3, 4, 5, 6, 7, 8, 9, 10]}\n",
    "gcv = GridSearchCV(pipe_mm, param_grid = params, cv = kfold, scoring = 'neg_log_loss')\n",
    "gcv.fit(X, y)\n",
    "print(gcv.best_score_)\n",
    "print(gcv.best_params_)"
   ]
  },
  {
   "cell_type": "code",
   "execution_count": 36,
   "id": "a984a274-afc7-4c23-ba9b-437b18f225c3",
   "metadata": {},
   "outputs": [
    {
     "name": "stdout",
     "output_type": "stream",
     "text": [
      "-0.3541342613432673\n",
      "{'KNN__n_neighbors': 9, 'SCL': MinMaxScaler()}\n"
     ]
    }
   ],
   "source": [
    "#gcv, pipeline with all three scaling together\n",
    "kfold = StratifiedKFold(n_splits = 5, shuffle = True, random_state=24)\n",
    "knn = KNeighborsClassifier()\n",
    "pipe_std = Pipeline([('SCL', None), ('KNN',knn)])\n",
    "params = {'KNN__n_neighbors': [1, 2, 3, 4, 5, 6, 7, 8, 9, 10], 'SCL':[std_scaler, std_mm, None]}\n",
    "gcv = GridSearchCV(pipe_std, param_grid = params, cv = kfold, scoring = 'neg_log_loss')\n",
    "gcv.fit(X, y)\n",
    "print(gcv.best_score_)\n",
    "print(gcv.best_params_)"
   ]
  }
 ],
 "metadata": {
  "kernelspec": {
   "display_name": "Python 3 (ipykernel)",
   "language": "python",
   "name": "python3"
  },
  "language_info": {
   "codemirror_mode": {
    "name": "ipython",
    "version": 3
   },
   "file_extension": ".py",
   "mimetype": "text/x-python",
   "name": "python",
   "nbconvert_exporter": "python",
   "pygments_lexer": "ipython3",
   "version": "3.11.7"
  }
 },
 "nbformat": 4,
 "nbformat_minor": 5
}

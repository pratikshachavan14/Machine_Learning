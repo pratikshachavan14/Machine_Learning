{
 "cells": [
  {
   "cell_type": "code",
   "execution_count": 18,
   "id": "6e8875c8-7e0f-4318-b40f-61aabbc6a8bd",
   "metadata": {},
   "outputs": [],
   "source": [
    "import pandas as pd\n",
    "import numpy as np\n",
    "import matplotlib.pyplot as plt\n",
    "\n",
    "from sklearn.model_selection import train_test_split\n",
    "from sklearn.metrics import confusion_matrix, classification_report\n",
    "from sklearn.metrics import accuracy_score\n",
    "from sklearn.preprocessing import LabelEncoder\n",
    "from sklearn.metrics import log_loss\n",
    "from sklearn.neighbors import KNeighborsClassifier\n",
    "from sklearn.model_selection import StratifiedKFold\n",
    "from sklearn.model_selection import GridSearchCV"
   ]
  },
  {
   "cell_type": "code",
   "execution_count": 19,
   "id": "fd7f6b97-ba08-44d0-9275-9dbb97786101",
   "metadata": {},
   "outputs": [
    {
     "name": "stdout",
     "output_type": "stream",
     "text": [
      "0.8\n",
      "0.74\n",
      "0.42755092525300575\n"
     ]
    }
   ],
   "source": [
    "df = pd.read_csv(\"C:/Users/Administrator.DAI-PC2/Desktop/ML/Day 5/Kyphosis.csv\")\n",
    "le = LabelEncoder()\n",
    "y = le.fit_transform(df[\"Kyphosis\"])\n",
    "X = df.drop(\"Kyphosis\", axis = 1)\n",
    "\n",
    "knn = KNeighborsClassifier(n_neighbors=5)\n",
    "\n",
    "X_train, X_test, y_train, y_test = train_test_split(X, y, test_size = 0.3, random_state=24, stratify=y)\n",
    "\n",
    "kfold = StratifiedKFold(n_splits = 5, shuffle = True, random_state=24)\n",
    "\n",
    "knn.fit(X_train, y_train)\n",
    "\n",
    "y_pred = knn.predict(X_test)\n",
    "y_pred_prob = knn.predict_proba(X_test)\n",
    "\n",
    "print(accuracy_score(y_test, y_pred))\n",
    "print(roc_auc_score(y_test, y_pred_prob[:,1]))\n",
    "print(log_loss(y_test,y_pred_prob))"
   ]
  },
  {
   "cell_type": "code",
   "execution_count": 24,
   "id": "ee61b83a-7259-4058-83d5-404bfacdc3c2",
   "metadata": {},
   "outputs": [
    {
     "name": "stdout",
     "output_type": "stream",
     "text": [
      "0.6937500000000001\n",
      "{'n_neighbors': 3}\n"
     ]
    }
   ],
   "source": [
    "\n",
    "params = {'n_neighbors': [1, 2, 3, 4, 5]}\n",
    "gcv = GridSearchCV(knn, param_grid = params, cv = kfold, scoring = 'roc_auc')\n",
    "gcv.fit(X, y)\n",
    "print(gcv.best_score_)\n",
    "print(gcv.best_params_)"
   ]
  }
 ],
 "metadata": {
  "kernelspec": {
   "display_name": "Python 3 (ipykernel)",
   "language": "python",
   "name": "python3"
  },
  "language_info": {
   "codemirror_mode": {
    "name": "ipython",
    "version": 3
   },
   "file_extension": ".py",
   "mimetype": "text/x-python",
   "name": "python",
   "nbconvert_exporter": "python",
   "pygments_lexer": "ipython3",
   "version": "3.11.7"
  }
 },
 "nbformat": 4,
 "nbformat_minor": 5
}

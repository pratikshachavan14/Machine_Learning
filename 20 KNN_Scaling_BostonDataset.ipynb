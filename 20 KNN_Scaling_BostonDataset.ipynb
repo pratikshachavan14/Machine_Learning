{
 "cells": [
  {
   "cell_type": "code",
   "execution_count": 20,
   "id": "0448fbcb-0c3b-4e69-bf88-14cda930d597",
   "metadata": {},
   "outputs": [],
   "source": [
    "import pandas as pd\n",
    "import numpy as np\n",
    "import matplotlib.pyplot as plt\n",
    "\n",
    "from sklearn.model_selection import train_test_split\n",
    "from sklearn.metrics import accuracy_score\n",
    "from sklearn.preprocessing import LabelEncoder\n",
    "from sklearn.metrics import log_loss\n",
    "from sklearn.neighbors import KNeighborsRegressor\n",
    "from sklearn.model_selection import KFold\n",
    "from sklearn.model_selection import GridSearchCV\n",
    "from sklearn.metrics import r2_score\n",
    "from sklearn.model_selection import StratifiedKFold\n",
    "from sklearn.pipeline import Pipeline\n",
    "from sklearn.preprocessing import StandardScaler, MinMaxScaler"
   ]
  },
  {
   "cell_type": "code",
   "execution_count": 24,
   "id": "93fc592d-12ea-429d-9a3a-51fc91e91181",
   "metadata": {},
   "outputs": [],
   "source": [
    "df = pd.read_csv(\"C:/Users/Administrator.DAI-PC2/Desktop/ML/Day 4/Boston.csv\")\n",
    "\n",
    "y = df['medv']\n",
    "X = df.drop('medv', axis = 1)"
   ]
  },
  {
   "cell_type": "code",
   "execution_count": 21,
   "id": "d64c7580-137d-4a56-b63f-8d485bffdb84",
   "metadata": {},
   "outputs": [
    {
     "name": "stdout",
     "output_type": "stream",
     "text": [
      "0.481132571469132\n"
     ]
    }
   ],
   "source": [
    "knn = KNeighborsRegressor(n_neighbors=3)\n",
    "\n",
    "X_train, X_test, y_train, y_test = train_test_split(X, y, test_size = 0.3, random_state=24)\n",
    "\n",
    "kfold = KFold(n_splits = 5, shuffle = True, random_state=24)\n",
    "\n",
    "knn.fit(X_train, y_train)\n",
    "\n",
    "y_pred = knn.predict(X_test)\n",
    "y_pred_prob = knn.predict(X_test)\n",
    "print(r2_score(y_test, y_pred))\n"
   ]
  },
  {
   "cell_type": "code",
   "execution_count": 22,
   "id": "63256b25-8501-47a4-aa43-3961d422d995",
   "metadata": {},
   "outputs": [
    {
     "name": "stdout",
     "output_type": "stream",
     "text": [
      "0.5407863726305988\n",
      "{'n_neighbors': 3}\n"
     ]
    }
   ],
   "source": [
    "params = {'n_neighbors': [1, 2, 3, 4, 5]}\n",
    "gcv = GridSearchCV(knn, param_grid = params, cv = kfold, scoring = 'r2')\n",
    "gcv.fit(X, y)\n",
    "print(gcv.best_score_)\n",
    "print(gcv.best_params_)"
   ]
  },
  {
   "cell_type": "code",
   "execution_count": 25,
   "id": "e6c552eb-4405-4f67-b5e4-c930a639fd03",
   "metadata": {},
   "outputs": [
    {
     "name": "stdout",
     "output_type": "stream",
     "text": [
      "0.7666263304880155\n",
      "{'KNN__n_neighbors': 3, 'SCL': StandardScaler()}\n"
     ]
    }
   ],
   "source": [
    "\n",
    "knr = KNeighborsRegressor()\n",
    "std_scaler = StandardScaler()\n",
    "std_mm = MinMaxScaler()\n",
    "pipe = Pipeline([('SCL', None), ('KNN',knr)])\n",
    "params = {'KNN__n_neighbors': [1, 2, 3, 4, 5, 6, 7, 8, 9, 10], 'SCL':[std_scaler, std_mm, None]}\n",
    "gcv = GridSearchCV(pipe, param_grid = params, cv = kfold, scoring = 'r2')\n",
    "gcv.fit(X, y)\n",
    "print(gcv.best_score_)\n",
    "print(gcv.best_params_)"
   ]
  }
 ],
 "metadata": {
  "kernelspec": {
   "display_name": "Python 3 (ipykernel)",
   "language": "python",
   "name": "python3"
  },
  "language_info": {
   "codemirror_mode": {
    "name": "ipython",
    "version": 3
   },
   "file_extension": ".py",
   "mimetype": "text/x-python",
   "name": "python",
   "nbconvert_exporter": "python",
   "pygments_lexer": "ipython3",
   "version": "3.11.7"
  }
 },
 "nbformat": 4,
 "nbformat_minor": 5
}

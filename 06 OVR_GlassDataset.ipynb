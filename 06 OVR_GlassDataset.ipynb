{
 "cells": [
  {
   "cell_type": "code",
   "execution_count": 1,
   "id": "f973e8f2-443a-4227-b221-4b3d97fec602",
   "metadata": {},
   "outputs": [],
   "source": [
    "import pandas as pd\n",
    "import numpy as np\n",
    "import matplotlib.pyplot as plt\n",
    "\n",
    "from sklearn.model_selection import train_test_split\n",
    "from sklearn.metrics import confusion_matrix, classification_report\n",
    "from sklearn.metrics import accuracy_score\n",
    "from sklearn.naive_bayes import GaussianNB\n",
    "from sklearn.metrics import roc_curve, roc_auc_score\n",
    "from sklearn.preprocessing import LabelEncoder\n",
    "from sklearn.linear_model import LogisticRegression\n",
    "from sklearn.metrics import log_loss"
   ]
  },
  {
   "cell_type": "code",
   "execution_count": 10,
   "id": "413c845d-0b94-4aab-9e11-b92f28f18c69",
   "metadata": {},
   "outputs": [
    {
     "name": "stdout",
     "output_type": "stream",
     "text": [
      "['building_windows_float_processed' 'building_windows_non_float_processed'\n",
      " 'containers' 'headlamps' 'tableware' 'vehicle_windows_float_processed']\n",
      "[[ 0  2  0  0  0 19]\n",
      " [ 2  2  1  0  0 18]\n",
      " [ 0  1  2  1  0  0]\n",
      " [ 0  0  0  8  0  1]\n",
      " [ 0  0  0  0  3  0]\n",
      " [ 0  1  0  0  0  4]]\n",
      "              precision    recall  f1-score   support\n",
      "\n",
      "           0       0.00      0.00      0.00        21\n",
      "           1       0.33      0.09      0.14        23\n",
      "           2       0.67      0.50      0.57         4\n",
      "           3       0.89      0.89      0.89         9\n",
      "           4       1.00      1.00      1.00         3\n",
      "           5       0.10      0.80      0.17         5\n",
      "\n",
      "    accuracy                           0.29        65\n",
      "   macro avg       0.50      0.55      0.46        65\n",
      "weighted avg       0.34      0.29      0.27        65\n",
      "\n",
      "0.2923076923076923\n"
     ]
    }
   ],
   "source": [
    "df = pd.read_csv(\"C:/Users/Administrator.DAI-PC2/Desktop/ML/Day1/Glass.csv\")\n",
    "le = LabelEncoder()\n",
    "y = le.fit_transform(df[\"Type\"])\n",
    "X = df.drop(\"Type\", axis = 1)\n",
    "\n",
    "print(le.classes_)\n",
    "\n",
    "X_train, X_test, y_train, y_test = train_test_split(X, y, test_size = 0.3, random_state=24, stratify=y)\n",
    "\n",
    "gaussian = GaussianNB()\n",
    "gaussian.fit(X_train, y_train)\n",
    "y_pred = gaussian.predict(X_test)\n",
    "y_pred_prob = gaussian.predict_proba(X_test)\n",
    "\n",
    "print(confusion_matrix(y_test, y_pred))\n",
    "print(classification_report(y_test, y_pred))\n",
    "print(accuracy_score(y_test, y_pred))"
   ]
  },
  {
   "cell_type": "code",
   "execution_count": 11,
   "id": "006ec3bd-6d99-44e3-b926-9b76a0be9fdf",
   "metadata": {},
   "outputs": [
    {
     "name": "stdout",
     "output_type": "stream",
     "text": [
      "[[-1.83085700e-02 -1.07665502e+00  1.60362122e+00 -1.47933111e+00\n",
      "   1.34020749e-01 -1.71275425e-01  3.76933244e-01 -3.60016370e-01\n",
      "   7.50942135e-02]\n",
      " [ 2.90144981e-02 -4.10828874e-01  3.68079415e-01  5.35517215e-01\n",
      "   3.92544640e-02  3.63984361e-01  2.90745578e-01  7.39449392e-02\n",
      "   4.25092641e-02]\n",
      " [-5.77571663e-04 -3.84036146e-01 -9.23106734e-01  8.53037657e-01\n",
      "   6.89741620e-02  6.94989579e-01  5.03001303e-02 -4.02333558e-01\n",
      "   3.77226794e-02]\n",
      " [ 7.48376812e-03  4.99408436e-01 -1.43128805e+00  1.05481490e+00\n",
      "   1.56903008e-02  1.31369549e-01 -7.54597921e-01  1.16443084e+00\n",
      "  -7.51647516e-02]\n",
      " [-2.66519990e-02  1.12959425e+00 -7.34243351e-01 -4.27212190e-01\n",
      "  -1.38230013e-01 -6.67422415e-01 -3.36724562e-01 -3.11791987e-01\n",
      "  -9.29912480e-02]\n",
      " [ 9.03987442e-03  2.42517357e-01  1.11693750e+00 -5.36826469e-01\n",
      "  -1.19709663e-01 -3.51645648e-01  3.73343531e-01 -1.64233866e-01\n",
      "   1.28298427e-02]]\n",
      "[-0.01493294  0.02041699  0.00092312  0.00466985 -0.01874829  0.00767127]\n",
      "[[17  4  0  0  0  0]\n",
      " [ 9 14  0  0  0  0]\n",
      " [ 0  1  2  1  0  0]\n",
      " [ 0  1  0  8  0  0]\n",
      " [ 0  0  0  2  1  0]\n",
      " [ 2  3  0  0  0  0]]\n",
      "              precision    recall  f1-score   support\n",
      "\n",
      "           0       0.61      0.81      0.69        21\n",
      "           1       0.61      0.61      0.61        23\n",
      "           2       1.00      0.50      0.67         4\n",
      "           3       0.73      0.89      0.80         9\n",
      "           4       1.00      0.33      0.50         3\n",
      "           5       0.00      0.00      0.00         5\n",
      "\n",
      "    accuracy                           0.65        65\n",
      "   macro avg       0.66      0.52      0.54        65\n",
      "weighted avg       0.62      0.65      0.61        65\n",
      "\n",
      "0.6461538461538462\n"
     ]
    },
    {
     "name": "stderr",
     "output_type": "stream",
     "text": [
      "C:\\ProgramData\\anaconda3\\Lib\\site-packages\\sklearn\\linear_model\\_logistic.py:458: ConvergenceWarning: lbfgs failed to converge (status=1):\n",
      "STOP: TOTAL NO. of ITERATIONS REACHED LIMIT.\n",
      "\n",
      "Increase the number of iterations (max_iter) or scale the data as shown in:\n",
      "    https://scikit-learn.org/stable/modules/preprocessing.html\n",
      "Please also refer to the documentation for alternative solver options:\n",
      "    https://scikit-learn.org/stable/modules/linear_model.html#logistic-regression\n",
      "  n_iter_i = _check_optimize_result(\n",
      "C:\\ProgramData\\anaconda3\\Lib\\site-packages\\sklearn\\metrics\\_classification.py:1344: UndefinedMetricWarning: Precision and F-score are ill-defined and being set to 0.0 in labels with no predicted samples. Use `zero_division` parameter to control this behavior.\n",
      "  _warn_prf(average, modifier, msg_start, len(result))\n",
      "C:\\ProgramData\\anaconda3\\Lib\\site-packages\\sklearn\\metrics\\_classification.py:1344: UndefinedMetricWarning: Precision and F-score are ill-defined and being set to 0.0 in labels with no predicted samples. Use `zero_division` parameter to control this behavior.\n",
      "  _warn_prf(average, modifier, msg_start, len(result))\n",
      "C:\\ProgramData\\anaconda3\\Lib\\site-packages\\sklearn\\metrics\\_classification.py:1344: UndefinedMetricWarning: Precision and F-score are ill-defined and being set to 0.0 in labels with no predicted samples. Use `zero_division` parameter to control this behavior.\n",
      "  _warn_prf(average, modifier, msg_start, len(result))\n"
     ]
    }
   ],
   "source": [
    "#without multiclass\n",
    "lr = LogisticRegression()\n",
    "lr.fit(X_train, y_train)\n",
    "\n",
    "print(lr.coef_)\n",
    "print(lr.intercept_)\n",
    "\n",
    "y_pred = lr.predict(X_test)\n",
    "y_pred_prob = lr.predict_proba(X_test)\n",
    "\n",
    "print(confusion_matrix(y_test, y_pred))\n",
    "print(classification_report(y_test, y_pred))\n",
    "print(accuracy_score(y_test, y_pred))"
   ]
  },
  {
   "cell_type": "code",
   "execution_count": 12,
   "id": "dd99f352-9896-4fa7-96c4-120ba1eee267",
   "metadata": {},
   "outputs": [
    {
     "name": "stdout",
     "output_type": "stream",
     "text": [
      "[[19  2  0  0  0  0]\n",
      " [13 10  0  0  0  0]\n",
      " [ 0  2  1  1  0  0]\n",
      " [ 1  0  0  8  0  0]\n",
      " [ 0  0  0  3  0  0]\n",
      " [ 4  1  0  0  0  0]]\n",
      "              precision    recall  f1-score   support\n",
      "\n",
      "           0       0.51      0.90      0.66        21\n",
      "           1       0.67      0.43      0.53        23\n",
      "           2       1.00      0.25      0.40         4\n",
      "           3       0.67      0.89      0.76         9\n",
      "           4       0.00      0.00      0.00         3\n",
      "           5       0.00      0.00      0.00         5\n",
      "\n",
      "    accuracy                           0.58        65\n",
      "   macro avg       0.47      0.41      0.39        65\n",
      "weighted avg       0.56      0.58      0.53        65\n",
      "\n",
      "0.5846153846153846\n"
     ]
    },
    {
     "name": "stderr",
     "output_type": "stream",
     "text": [
      "C:\\ProgramData\\anaconda3\\Lib\\site-packages\\sklearn\\linear_model\\_logistic.py:458: ConvergenceWarning: lbfgs failed to converge (status=1):\n",
      "STOP: TOTAL NO. of ITERATIONS REACHED LIMIT.\n",
      "\n",
      "Increase the number of iterations (max_iter) or scale the data as shown in:\n",
      "    https://scikit-learn.org/stable/modules/preprocessing.html\n",
      "Please also refer to the documentation for alternative solver options:\n",
      "    https://scikit-learn.org/stable/modules/linear_model.html#logistic-regression\n",
      "  n_iter_i = _check_optimize_result(\n",
      "C:\\ProgramData\\anaconda3\\Lib\\site-packages\\sklearn\\metrics\\_classification.py:1344: UndefinedMetricWarning: Precision and F-score are ill-defined and being set to 0.0 in labels with no predicted samples. Use `zero_division` parameter to control this behavior.\n",
      "  _warn_prf(average, modifier, msg_start, len(result))\n",
      "C:\\ProgramData\\anaconda3\\Lib\\site-packages\\sklearn\\metrics\\_classification.py:1344: UndefinedMetricWarning: Precision and F-score are ill-defined and being set to 0.0 in labels with no predicted samples. Use `zero_division` parameter to control this behavior.\n",
      "  _warn_prf(average, modifier, msg_start, len(result))\n",
      "C:\\ProgramData\\anaconda3\\Lib\\site-packages\\sklearn\\metrics\\_classification.py:1344: UndefinedMetricWarning: Precision and F-score are ill-defined and being set to 0.0 in labels with no predicted samples. Use `zero_division` parameter to control this behavior.\n",
      "  _warn_prf(average, modifier, msg_start, len(result))\n"
     ]
    }
   ],
   "source": [
    "#with multiclass\n",
    "lr = LogisticRegression(multi_class='ovr')\n",
    "lr.fit(X_train, y_train)\n",
    "y_pred = lr.predict(X_test)\n",
    "y_pred_prob = lr.predict_proba(X_test)\n",
    "\n",
    "print(confusion_matrix(y_test, y_pred))\n",
    "print(classification_report(y_test, y_pred))\n",
    "print(accuracy_score(y_test, y_pred))"
   ]
  },
  {
   "cell_type": "code",
   "execution_count": 13,
   "id": "57c096dc-d8bf-4458-a263-228fe9370baa",
   "metadata": {},
   "outputs": [
    {
     "name": "stdout",
     "output_type": "stream",
     "text": [
      "0.8173553364483513\n",
      "1.0343716335791842\n"
     ]
    }
   ],
   "source": [
    "y_probs = lr.predict_proba(X_test)\n",
    "\n",
    "\n",
    "print(roc_auc_score(y_test, y_pred_prob, multi_class = 'ovr'))\n",
    "print(log_loss(y_test,y_pred_prob))"
   ]
  }
 ],
 "metadata": {
  "kernelspec": {
   "display_name": "Python 3 (ipykernel)",
   "language": "python",
   "name": "python3"
  },
  "language_info": {
   "codemirror_mode": {
    "name": "ipython",
    "version": 3
   },
   "file_extension": ".py",
   "mimetype": "text/x-python",
   "name": "python",
   "nbconvert_exporter": "python",
   "pygments_lexer": "ipython3",
   "version": "3.11.7"
  }
 },
 "nbformat": 4,
 "nbformat_minor": 5
}

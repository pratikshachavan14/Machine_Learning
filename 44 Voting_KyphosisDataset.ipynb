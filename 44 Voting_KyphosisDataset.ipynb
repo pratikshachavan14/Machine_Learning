{
 "cells": [
  {
   "cell_type": "code",
   "execution_count": 24,
   "id": "8b25d7d1-8033-4f3c-8424-cd50ff33e30f",
   "metadata": {},
   "outputs": [],
   "source": [
    "import pandas as pd\n",
    "import numpy as np\n",
    "import matplotlib.pyplot as plt\n",
    "\n",
    "from sklearn.model_selection import train_test_split\n",
    "from sklearn.metrics import accuracy_score\n",
    "from sklearn.metrics import roc_curve, roc_auc_score\n",
    "from sklearn.preprocessing import LabelEncoder\n",
    "from sklearn.metrics import log_loss\n",
    "from sklearn.model_selection import StratifiedKFold, cross_val_score, KFold\n",
    "from sklearn.metrics import r2_score\n",
    "from sklearn.model_selection import GridSearchCV\n",
    "from sklearn.svm import SVC\n",
    "from sklearn.preprocessing import StandardScaler, MinMaxScaler\n",
    "from sklearn.pipeline import Pipeline\n",
    "from sklearn.linear_model import LogisticRegression\n",
    "from sklearn.discriminant_analysis import LinearDiscriminantAnalysis\n",
    "from sklearn.tree import plot_tree\n",
    "from sklearn.ensemble import VotingClassifier\n",
    "from sklearn.tree import DecisionTreeClassifier "
   ]
  },
  {
   "cell_type": "code",
   "execution_count": 25,
   "id": "a4bea0a3-714b-4f45-834e-74a4e4def630",
   "metadata": {},
   "outputs": [],
   "source": [
    "df = pd.read_csv(\"C:/Users/Administrator.DAI-PC2/Desktop/ML/Day 5/Kyphosis.csv\")\n",
    "le = LabelEncoder()\n",
    "y = le.fit_transform(df[\"Kyphosis\"])\n",
    "X = df.drop(\"Kyphosis\", axis = 1)"
   ]
  },
  {
   "cell_type": "code",
   "execution_count": 26,
   "id": "6f6e346a-2f45-4b01-8157-74859424879e",
   "metadata": {},
   "outputs": [],
   "source": [
    "#voting classifier \n",
    "svc_l = SVC(kernel = 'linear', probability = True, random_state=24)\n",
    "std_scaler = StandardScaler()\n",
    "pipe_l = Pipeline([('SCL', std_scaler),('SVM', svc_l)])\n",
    "\n",
    "svc_r = SVC(kernel = 'rbf', probability = True, random_state=24)\n",
    "std_scaler = StandardScaler()\n",
    "pipe_r = Pipeline([('SCL', std_scaler),('SVM', svc_r)])\n",
    "\n",
    "lr = LogisticRegression()\n",
    "lda =LinearDiscriminantAnalysis()\n",
    "dtc = DecisionTreeClassifier(random_state=24)\n",
    "\n",
    "\n",
    "voting = VotingClassifier([('LR',lr), ('SVML', pipe_l),\n",
    "                          ('SVM_R', pipe_r), ('LDA', lda), ('DTC', dtc)], voting='soft')\n"
   ]
  },
  {
   "cell_type": "code",
   "execution_count": 27,
   "id": "e25fb7ae-4a50-4f5a-b7ef-411ba65d9baf",
   "metadata": {},
   "outputs": [
    {
     "name": "stdout",
     "output_type": "stream",
     "text": [
      "0.76\n"
     ]
    }
   ],
   "source": [
    "# fit to voting\n",
    "\n",
    "X_train, X_test, y_train, y_test = train_test_split(X, y, test_size = 0.3, random_state=24, stratify=y)\n",
    "\n",
    "voting.fit(X_train, y_train)\n",
    "y_pred = voting.predict(X_test)\n",
    "print(accuracy_score(y_test, y_pred))"
   ]
  },
  {
   "cell_type": "code",
   "execution_count": 28,
   "id": "0913cab9-2f53-45ba-8463-ed1769646e91",
   "metadata": {},
   "outputs": [
    {
     "name": "stdout",
     "output_type": "stream",
     "text": [
      "0.49120837228459485\n"
     ]
    }
   ],
   "source": [
    "y_pred_prob = voting2.predict_proba(X_test)[:,1]\n",
    "print(log_loss(y_test, y_pred_prob))"
   ]
  },
  {
   "cell_type": "code",
   "execution_count": 33,
   "id": "8847bf44-29ab-4ef2-b5f8-5cead7818957",
   "metadata": {},
   "outputs": [
    {
     "name": "stdout",
     "output_type": "stream",
     "text": [
      "-0.43705302568162435\n",
      "{'SVML__SVM__C': 0.33422222222222225}\n"
     ]
    }
   ],
   "source": [
    "kfold = StratifiedKFold(n_splits = 5, shuffle = True, random_state=24)\n",
    "#print(voting.get_params())\n",
    "\n",
    "params = {'SVML__SVM__C': np.linspace(0.001,3,10)}\n",
    "gcv = GridSearchCV(voting, param_grid = params, cv = kfold, scoring = 'neg_log_loss')\n",
    "gcv.fit(X, y)\n",
    "print(gcv.best_score_)\n",
    "print(gcv.best_params_)\n"
   ]
  },
  {
   "cell_type": "code",
   "execution_count": 37,
   "id": "8865e499-0133-42f9-90c8-bbb645dfeee7",
   "metadata": {},
   "outputs": [
    {
     "name": "stdout",
     "output_type": "stream",
     "text": [
      "-0.40978683242881225\n",
      "{'DTC__max_depth': 2, 'LR__C': 3.0, 'SVML__SVM__C': 0.75075, 'SVM_R__SVM__C': 3.0, 'SVM_R__SVM__gamma': 3.0}\n"
     ]
    }
   ],
   "source": [
    "#adding parameters for all\n",
    "\n",
    "params = {'SVML__SVM__C': np.linspace(0.001,3,5), 'LR__C': np.linspace(0.001,3,5),\n",
    "          'SVM_R__SVM__C': np.linspace(0.001,3,5),'SVM_R__SVM__gamma': np.linspace(0.001,3,5) ,\n",
    "          'DTC__max_depth': [None, 2,3]}\n",
    "gcv = GridSearchCV(voting, param_grid = params, cv = kfold, scoring = 'neg_log_loss', n_jobs = -1)\n",
    "gcv.fit(X, y)\n",
    "print(gcv.best_score_)\n",
    "print(gcv.best_params_)\n"
   ]
  },
  {
   "cell_type": "code",
   "execution_count": 32,
   "id": "63efaaa1-bca8-4aa9-89e6-6f3836fe8389",
   "metadata": {},
   "outputs": [
    {
     "name": "stdout",
     "output_type": "stream",
     "text": [
      "{'estimators': [('LR', LogisticRegression()), ('SVML', Pipeline(steps=[('SCL', StandardScaler()),\n",
      "                ('SVM',\n",
      "                 SVC(kernel='linear', probability=True, random_state=24))])), ('SVM_R', Pipeline(steps=[('SCL', StandardScaler()),\n",
      "                ('SVM', SVC(probability=True, random_state=24))])), ('LDA', LinearDiscriminantAnalysis()), ('DTC', DecisionTreeClassifier(random_state=24))], 'flatten_transform': True, 'n_jobs': None, 'verbose': False, 'voting': 'soft', 'weights': None, 'LR': LogisticRegression(), 'SVML': Pipeline(steps=[('SCL', StandardScaler()),\n",
      "                ('SVM',\n",
      "                 SVC(kernel='linear', probability=True, random_state=24))]), 'SVM_R': Pipeline(steps=[('SCL', StandardScaler()),\n",
      "                ('SVM', SVC(probability=True, random_state=24))]), 'LDA': LinearDiscriminantAnalysis(), 'DTC': DecisionTreeClassifier(random_state=24), 'LR__C': 1.0, 'LR__class_weight': None, 'LR__dual': False, 'LR__fit_intercept': True, 'LR__intercept_scaling': 1, 'LR__l1_ratio': None, 'LR__max_iter': 100, 'LR__multi_class': 'auto', 'LR__n_jobs': None, 'LR__penalty': 'l2', 'LR__random_state': None, 'LR__solver': 'lbfgs', 'LR__tol': 0.0001, 'LR__verbose': 0, 'LR__warm_start': False, 'SVML__memory': None, 'SVML__steps': [('SCL', StandardScaler()), ('SVM', SVC(kernel='linear', probability=True, random_state=24))], 'SVML__verbose': False, 'SVML__SCL': StandardScaler(), 'SVML__SVM': SVC(kernel='linear', probability=True, random_state=24), 'SVML__SCL__copy': True, 'SVML__SCL__with_mean': True, 'SVML__SCL__with_std': True, 'SVML__SVM__C': 1.0, 'SVML__SVM__break_ties': False, 'SVML__SVM__cache_size': 200, 'SVML__SVM__class_weight': None, 'SVML__SVM__coef0': 0.0, 'SVML__SVM__decision_function_shape': 'ovr', 'SVML__SVM__degree': 3, 'SVML__SVM__gamma': 'scale', 'SVML__SVM__kernel': 'linear', 'SVML__SVM__max_iter': -1, 'SVML__SVM__probability': True, 'SVML__SVM__random_state': 24, 'SVML__SVM__shrinking': True, 'SVML__SVM__tol': 0.001, 'SVML__SVM__verbose': False, 'SVM_R__memory': None, 'SVM_R__steps': [('SCL', StandardScaler()), ('SVM', SVC(probability=True, random_state=24))], 'SVM_R__verbose': False, 'SVM_R__SCL': StandardScaler(), 'SVM_R__SVM': SVC(probability=True, random_state=24), 'SVM_R__SCL__copy': True, 'SVM_R__SCL__with_mean': True, 'SVM_R__SCL__with_std': True, 'SVM_R__SVM__C': 1.0, 'SVM_R__SVM__break_ties': False, 'SVM_R__SVM__cache_size': 200, 'SVM_R__SVM__class_weight': None, 'SVM_R__SVM__coef0': 0.0, 'SVM_R__SVM__decision_function_shape': 'ovr', 'SVM_R__SVM__degree': 3, 'SVM_R__SVM__gamma': 'scale', 'SVM_R__SVM__kernel': 'rbf', 'SVM_R__SVM__max_iter': -1, 'SVM_R__SVM__probability': True, 'SVM_R__SVM__random_state': 24, 'SVM_R__SVM__shrinking': True, 'SVM_R__SVM__tol': 0.001, 'SVM_R__SVM__verbose': False, 'LDA__covariance_estimator': None, 'LDA__n_components': None, 'LDA__priors': None, 'LDA__shrinkage': None, 'LDA__solver': 'svd', 'LDA__store_covariance': False, 'LDA__tol': 0.0001, 'DTC__ccp_alpha': 0.0, 'DTC__class_weight': None, 'DTC__criterion': 'gini', 'DTC__max_depth': None, 'DTC__max_features': None, 'DTC__max_leaf_nodes': None, 'DTC__min_impurity_decrease': 0.0, 'DTC__min_samples_leaf': 1, 'DTC__min_samples_split': 2, 'DTC__min_weight_fraction_leaf': 0.0, 'DTC__monotonic_cst': None, 'DTC__random_state': 24, 'DTC__splitter': 'best'}\n"
     ]
    }
   ],
   "source": [
    "print(voting.get_params())"
   ]
  }
 ],
 "metadata": {
  "kernelspec": {
   "display_name": "Python 3 (ipykernel)",
   "language": "python",
   "name": "python3"
  },
  "language_info": {
   "codemirror_mode": {
    "name": "ipython",
    "version": 3
   },
   "file_extension": ".py",
   "mimetype": "text/x-python",
   "name": "python",
   "nbconvert_exporter": "python",
   "pygments_lexer": "ipython3",
   "version": "3.11.7"
  }
 },
 "nbformat": 4,
 "nbformat_minor": 5
}

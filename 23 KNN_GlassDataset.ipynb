{
 "cells": [
  {
   "cell_type": "code",
   "execution_count": 18,
   "id": "e807c95f-b139-4022-a6d7-9ae00c24e304",
   "metadata": {},
   "outputs": [],
   "source": [
    "import pandas as pd\n",
    "import numpy as np\n",
    "import matplotlib.pyplot as plt\n",
    "\n",
    "from sklearn.model_selection import train_test_split\n",
    "from sklearn.metrics import confusion_matrix, classification_report\n",
    "from sklearn.metrics import accuracy_score\n",
    "from sklearn.preprocessing import LabelEncoder\n",
    "from sklearn.neighbors import KNeighborsClassifier\n",
    "from sklearn.model_selection import KFold, StratifiedKFold\n",
    "from sklearn.model_selection import GridSearchCV\n",
    "from sklearn.metrics import r2_score\n",
    "from sklearn.pipeline import Pipeline\n",
    "from sklearn.preprocessing import StandardScaler, MinMaxScaler"
   ]
  },
  {
   "cell_type": "code",
   "execution_count": 21,
   "id": "bc970349-528c-4ffd-88c0-3937bcb80124",
   "metadata": {},
   "outputs": [
    {
     "data": {
      "text/plain": [
       "array(['building_windows_float_processed',\n",
       "       'building_windows_non_float_processed', 'containers', 'headlamps',\n",
       "       'tableware', 'vehicle_windows_float_processed'], dtype=object)"
      ]
     },
     "execution_count": 21,
     "metadata": {},
     "output_type": "execute_result"
    }
   ],
   "source": [
    "df = pd.read_csv(\"C:/Users/Administrator.DAI-PC2/Desktop/ML/Day1/Glass.csv\")\n",
    "le = LabelEncoder()\n",
    "y = le.fit_transform(df[\"Type\"])\n",
    "X = df.drop(\"Type\", axis = 1)\n",
    "le.classes_"
   ]
  },
  {
   "cell_type": "code",
   "execution_count": 14,
   "id": "f0079f67-5053-4d30-8e86-60b18883ad4f",
   "metadata": {},
   "outputs": [
    {
     "name": "stdout",
     "output_type": "stream",
     "text": [
      "[[13  2  0  0  0  1]\n",
      " [ 7 10  1  0  1  0]\n",
      " [ 0  3  4  0  0  0]\n",
      " [ 1  1  1  9  0  0]\n",
      " [ 0  1  1  0  1  0]\n",
      " [ 7  1  0  0  0  0]]\n",
      "              precision    recall  f1-score   support\n",
      "\n",
      "           0       0.46      0.81      0.59        16\n",
      "           1       0.56      0.53      0.54        19\n",
      "           2       0.57      0.57      0.57         7\n",
      "           3       1.00      0.75      0.86        12\n",
      "           4       0.50      0.33      0.40         3\n",
      "           5       0.00      0.00      0.00         8\n",
      "\n",
      "    accuracy                           0.57        65\n",
      "   macro avg       0.52      0.50      0.49        65\n",
      "weighted avg       0.55      0.57      0.54        65\n",
      "\n",
      "0.5692307692307692\n"
     ]
    }
   ],
   "source": [
    "knn = KNeighborsClassifier()\n",
    "\n",
    "X_train, X_test, y_train, y_test = train_test_split(X, y, test_size = 0.3, random_state=24)\n",
    "\n",
    "kfold = KFold(n_splits = 5, shuffle = True, random_state=24)\n",
    "\n",
    "knn.fit(X_train, y_train)\n",
    "\n",
    "y_pred = knn.predict(X_test)\n",
    "y_pred_prob = knn.predict_proba(X_test)\n",
    "\n",
    "print(confusion_matrix(y_test, y_pred))\n",
    "print(classification_report(y_test, y_pred))\n",
    "print(accuracy_score(y_test, y_pred))"
   ]
  },
  {
   "cell_type": "code",
   "execution_count": 19,
   "id": "a37e8330-2d32-4b28-a88f-d5a8abcf331b",
   "metadata": {},
   "outputs": [
    {
     "name": "stdout",
     "output_type": "stream",
     "text": [
      "-2.1501310079676905\n",
      "{'KNN__n_neighbors': 8, 'SCL': None}\n"
     ]
    }
   ],
   "source": [
    "kfold = StratifiedKFold(n_splits = 5, shuffle = True, random_state=24)\n",
    "\n",
    "std_scaler = StandardScaler()\n",
    "std_mm = MinMaxScaler()\n",
    "pipe_std = Pipeline([('SCL', None), ('KNN',knn)])\n",
    "params = {'KNN__n_neighbors': [1, 2, 3, 4, 5, 6, 7, 8, 9, 10], 'SCL':[std_scaler, std_mm, None]}\n",
    "gcv = GridSearchCV(pipe_std, param_grid = params, cv = kfold, scoring = 'neg_log_loss')\n",
    "gcv.fit(X, y)\n",
    "print(gcv.best_score_)\n",
    "print(gcv.best_params_)"
   ]
  },
  {
   "cell_type": "code",
   "execution_count": 20,
   "id": "46188d2d-8f7b-4970-8f5a-b80fe1d6a21a",
   "metadata": {},
   "outputs": [
    {
     "data": {
      "text/plain": [
       "array([3, 1, 2, 3, 0, 3])"
      ]
     },
     "execution_count": 20,
     "metadata": {},
     "output_type": "execute_result"
    }
   ],
   "source": [
    "tst_conc = pd.read_csv(\"tst_Glass.csv\")\n",
    "pred_strength = gcv.predict(tst_conc)\n",
    "pred_strength"
   ]
  },
  {
   "cell_type": "code",
   "execution_count": 23,
   "id": "3493c617-b462-47c0-b575-c156ed03b7c6",
   "metadata": {},
   "outputs": [
    {
     "data": {
      "text/plain": [
       "array(['headlamps', 'building_windows_non_float_processed', 'containers',\n",
       "       'headlamps', 'building_windows_float_processed', 'headlamps'],\n",
       "      dtype=object)"
      ]
     },
     "execution_count": 23,
     "metadata": {},
     "output_type": "execute_result"
    }
   ],
   "source": [
    "pred_type = le.inverse_transform(pred_strength)\n",
    "pred_type"
   ]
  }
 ],
 "metadata": {
  "kernelspec": {
   "display_name": "Python 3 (ipykernel)",
   "language": "python",
   "name": "python3"
  },
  "language_info": {
   "codemirror_mode": {
    "name": "ipython",
    "version": 3
   },
   "file_extension": ".py",
   "mimetype": "text/x-python",
   "name": "python",
   "nbconvert_exporter": "python",
   "pygments_lexer": "ipython3",
   "version": "3.11.7"
  }
 },
 "nbformat": 4,
 "nbformat_minor": 5
}
